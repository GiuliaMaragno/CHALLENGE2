{
 "cells": [
  {
   "cell_type": "code",
   "execution_count": 1,
   "metadata": {},
   "outputs": [],
   "source": [
    "#!pip install -r requirements.txt"
   ]
  },
  {
   "cell_type": "code",
   "execution_count": 2,
   "metadata": {},
   "outputs": [],
   "source": [
    "import numpy as np\n",
    "import pandas as pd\n",
    "from sklearn.model_selection import train_test_split\n",
    "import matplotlib.pyplot as plt\n",
    "import seaborn as sns"
   ]
  },
  {
   "cell_type": "code",
   "execution_count": 3,
   "metadata": {},
   "outputs": [],
   "source": [
    "train=pd.read_csv('train.csv')"
   ]
  },
  {
   "cell_type": "code",
   "execution_count": 4,
   "metadata": {},
   "outputs": [],
   "source": [
    "test=pd.read_csv('test.csv')"
   ]
  },
  {
   "cell_type": "markdown",
   "metadata": {},
   "source": [
    "Guardo le dimensioni dei due file"
   ]
  },
  {
   "cell_type": "code",
   "execution_count": 5,
   "metadata": {},
   "outputs": [
    {
     "data": {
      "text/plain": [
       "(4507, 21)"
      ]
     },
     "execution_count": 5,
     "metadata": {},
     "output_type": "execute_result"
    }
   ],
   "source": [
    "train.shape"
   ]
  },
  {
   "cell_type": "code",
   "execution_count": 6,
   "metadata": {},
   "outputs": [
    {
     "data": {
      "text/plain": [
       "(1127, 21)"
      ]
     },
     "execution_count": 6,
     "metadata": {},
     "output_type": "execute_result"
    }
   ],
   "source": [
    "test.shape"
   ]
  },
  {
   "cell_type": "markdown",
   "metadata": {},
   "source": [
    "# MI STAMPO LE FEATURE CHE COMPAIONO NEL TRAIN E NEL TEST"
   ]
  },
  {
   "cell_type": "code",
   "execution_count": 7,
   "metadata": {},
   "outputs": [
    {
     "data": {
      "text/plain": [
       "['Churn',\n",
       " 'customerID',\n",
       " 'gender',\n",
       " 'SeniorCitizen',\n",
       " 'Partner',\n",
       " 'Dependents',\n",
       " 'tenure',\n",
       " 'PhoneService',\n",
       " 'MultipleLines',\n",
       " 'InternetService',\n",
       " 'OnlineSecurity',\n",
       " 'OnlineBackup',\n",
       " 'DeviceProtection',\n",
       " 'TechSupport',\n",
       " 'StreamingTV',\n",
       " 'StreamingMovies',\n",
       " 'Contract',\n",
       " 'PaperlessBilling',\n",
       " 'PaymentMethod',\n",
       " 'MonthlyCharges',\n",
       " 'TotalCharges']"
      ]
     },
     "execution_count": 7,
     "metadata": {},
     "output_type": "execute_result"
    }
   ],
   "source": [
    "list(train)"
   ]
  },
  {
   "cell_type": "code",
   "execution_count": 8,
   "metadata": {},
   "outputs": [
    {
     "data": {
      "text/plain": [
       "['Churn',\n",
       " 'customerID',\n",
       " 'gender',\n",
       " 'SeniorCitizen',\n",
       " 'Partner',\n",
       " 'Dependents',\n",
       " 'tenure',\n",
       " 'PhoneService',\n",
       " 'MultipleLines',\n",
       " 'InternetService',\n",
       " 'OnlineSecurity',\n",
       " 'OnlineBackup',\n",
       " 'DeviceProtection',\n",
       " 'TechSupport',\n",
       " 'StreamingTV',\n",
       " 'StreamingMovies',\n",
       " 'Contract',\n",
       " 'PaperlessBilling',\n",
       " 'PaymentMethod',\n",
       " 'MonthlyCharges',\n",
       " 'TotalCharges']"
      ]
     },
     "execution_count": 8,
     "metadata": {},
     "output_type": "execute_result"
    }
   ],
   "source": [
    "list(test)"
   ]
  },
  {
   "cell_type": "markdown",
   "metadata": {},
   "source": [
    "# MI STAMPO LA QUANTITA' DEI VALORI CHE ASSUMONO LE VARIE FEATURE "
   ]
  },
  {
   "cell_type": "code",
   "execution_count": 9,
   "metadata": {},
   "outputs": [
    {
     "name": "stdout",
     "output_type": "stream",
     "text": [
      "Features:  Churn\n",
      "No     3296\n",
      "Yes    1211\n",
      "Name: Churn, dtype: int64\n",
      "\n",
      "*****************\n",
      "\n",
      "Features:  customerID\n",
      "8861-HGGKB    1\n",
      "4199-QHJNM    1\n",
      "1866-ZSLJM    1\n",
      "6618-RYATB    1\n",
      "6705-LXORM    1\n",
      "             ..\n",
      "7139-JZFVG    1\n",
      "1488-PBLJN    1\n",
      "5173-ZXXXL    1\n",
      "3639-XJHKQ    1\n",
      "6685-XSHHU    1\n",
      "Name: customerID, Length: 4507, dtype: int64\n",
      "\n",
      "*****************\n",
      "\n",
      "Features:  gender\n",
      "Male      2299\n",
      "Female    2208\n",
      "Name: gender, dtype: int64\n",
      "\n",
      "*****************\n",
      "\n",
      "Features:  SeniorCitizen\n",
      "0    3789\n",
      "1     718\n",
      "Name: SeniorCitizen, dtype: int64\n",
      "\n",
      "*****************\n",
      "\n",
      "Features:  Partner\n",
      "No     2323\n",
      "Yes    2184\n",
      "Name: Partner, dtype: int64\n",
      "\n",
      "*****************\n",
      "\n",
      "Features:  Dependents\n",
      "No     3167\n",
      "Yes    1340\n",
      "Name: Dependents, dtype: int64\n",
      "\n",
      "*****************\n",
      "\n",
      "Features:  tenure\n",
      "1     387\n",
      "72    228\n",
      "2     143\n",
      "4     126\n",
      "3     126\n",
      "     ... \n",
      "28     35\n",
      "45     35\n",
      "36     34\n",
      "39     31\n",
      "0       8\n",
      "Name: tenure, Length: 73, dtype: int64\n",
      "\n",
      "*****************\n",
      "\n",
      "Features:  PhoneService\n",
      "Yes    4072\n",
      "No      435\n",
      "Name: PhoneService, dtype: int64\n",
      "\n",
      "*****************\n",
      "\n",
      "Features:  MultipleLines\n",
      "No                  2146\n",
      "Yes                 1926\n",
      "No phone service     435\n",
      "Name: MultipleLines, dtype: int64\n",
      "\n",
      "*****************\n",
      "\n",
      "Features:  InternetService\n",
      "Fiber optic    2017\n",
      "DSL            1510\n",
      "No              980\n",
      "Name: InternetService, dtype: int64\n",
      "\n",
      "*****************\n",
      "\n",
      "Features:  OnlineSecurity\n",
      "No                     2256\n",
      "Yes                    1271\n",
      "No internet service     980\n",
      "Name: OnlineSecurity, dtype: int64\n",
      "\n",
      "*****************\n",
      "\n",
      "Features:  OnlineBackup\n",
      "No                     1947\n",
      "Yes                    1580\n",
      "No internet service     980\n",
      "Name: OnlineBackup, dtype: int64\n",
      "\n",
      "*****************\n",
      "\n",
      "Features:  DeviceProtection\n",
      "No                     1984\n",
      "Yes                    1543\n",
      "No internet service     980\n",
      "Name: DeviceProtection, dtype: int64\n",
      "\n",
      "*****************\n",
      "\n",
      "Features:  TechSupport\n",
      "No                     2251\n",
      "Yes                    1276\n",
      "No internet service     980\n",
      "Name: TechSupport, dtype: int64\n",
      "\n",
      "*****************\n",
      "\n",
      "Features:  StreamingTV\n",
      "No                     1797\n",
      "Yes                    1730\n",
      "No internet service     980\n",
      "Name: StreamingTV, dtype: int64\n",
      "\n",
      "*****************\n",
      "\n",
      "Features:  StreamingMovies\n",
      "No                     1783\n",
      "Yes                    1744\n",
      "No internet service     980\n",
      "Name: StreamingMovies, dtype: int64\n",
      "\n",
      "*****************\n",
      "\n",
      "Features:  Contract\n",
      "Month-to-month    2466\n",
      "Two year          1053\n",
      "One year           988\n",
      "Name: Contract, dtype: int64\n",
      "\n",
      "*****************\n",
      "\n",
      "Features:  PaperlessBilling\n",
      "Yes    2672\n",
      "No     1835\n",
      "Name: PaperlessBilling, dtype: int64\n",
      "\n",
      "*****************\n",
      "\n",
      "Features:  PaymentMethod\n",
      "Electronic check             1498\n",
      "Mailed check                 1023\n",
      "Bank transfer (automatic)     999\n",
      "Credit card (automatic)       987\n",
      "Name: PaymentMethod, dtype: int64\n",
      "\n",
      "*****************\n",
      "\n",
      "Features:  MonthlyCharges\n",
      "20.05    36\n",
      "19.55    30\n",
      "20.25    29\n",
      "19.85    28\n",
      "20.15    28\n",
      "         ..\n",
      "26.80     1\n",
      "87.60     1\n",
      "53.35     1\n",
      "41.90     1\n",
      "72.15     1\n",
      "Name: MonthlyCharges, Length: 1406, dtype: int64\n",
      "\n",
      "*****************\n",
      "\n",
      "Features:  TotalCharges\n",
      "           8\n",
      "19.75      7\n",
      "19.55      6\n",
      "19.9       6\n",
      "20.3       5\n",
      "          ..\n",
      "6254.2     1\n",
      "815.55     1\n",
      "440.2      1\n",
      "6448.85    1\n",
      "4308.25    1\n",
      "Name: TotalCharges, Length: 4267, dtype: int64\n",
      "\n",
      "*****************\n",
      "\n"
     ]
    }
   ],
   "source": [
    "for c in train.columns:\n",
    "    print (\"Features: \", c)\n",
    "    print(train[c].value_counts())\n",
    "    print(\"\\n*****************\\n\")"
   ]
  },
  {
   "cell_type": "code",
   "execution_count": 10,
   "metadata": {},
   "outputs": [
    {
     "data": {
      "text/html": [
       "<div>\n",
       "<style scoped>\n",
       "    .dataframe tbody tr th:only-of-type {\n",
       "        vertical-align: middle;\n",
       "    }\n",
       "\n",
       "    .dataframe tbody tr th {\n",
       "        vertical-align: top;\n",
       "    }\n",
       "\n",
       "    .dataframe thead th {\n",
       "        text-align: right;\n",
       "    }\n",
       "</style>\n",
       "<table border=\"1\" class=\"dataframe\">\n",
       "  <thead>\n",
       "    <tr style=\"text-align: right;\">\n",
       "      <th></th>\n",
       "      <th>Churn</th>\n",
       "      <th>customerID</th>\n",
       "      <th>gender</th>\n",
       "      <th>SeniorCitizen</th>\n",
       "      <th>Partner</th>\n",
       "      <th>Dependents</th>\n",
       "      <th>tenure</th>\n",
       "      <th>PhoneService</th>\n",
       "      <th>MultipleLines</th>\n",
       "      <th>InternetService</th>\n",
       "      <th>...</th>\n",
       "      <th>OnlineBackup</th>\n",
       "      <th>DeviceProtection</th>\n",
       "      <th>TechSupport</th>\n",
       "      <th>StreamingTV</th>\n",
       "      <th>StreamingMovies</th>\n",
       "      <th>Contract</th>\n",
       "      <th>PaperlessBilling</th>\n",
       "      <th>PaymentMethod</th>\n",
       "      <th>MonthlyCharges</th>\n",
       "      <th>TotalCharges</th>\n",
       "    </tr>\n",
       "  </thead>\n",
       "  <tbody>\n",
       "    <tr>\n",
       "      <th>0</th>\n",
       "      <td>No</td>\n",
       "      <td>3798-EPWRR</td>\n",
       "      <td>Female</td>\n",
       "      <td>1</td>\n",
       "      <td>No</td>\n",
       "      <td>No</td>\n",
       "      <td>2</td>\n",
       "      <td>Yes</td>\n",
       "      <td>No</td>\n",
       "      <td>DSL</td>\n",
       "      <td>...</td>\n",
       "      <td>No</td>\n",
       "      <td>No</td>\n",
       "      <td>No</td>\n",
       "      <td>No</td>\n",
       "      <td>No</td>\n",
       "      <td>Month-to-month</td>\n",
       "      <td>No</td>\n",
       "      <td>Electronic check</td>\n",
       "      <td>43.95</td>\n",
       "      <td>85.1</td>\n",
       "    </tr>\n",
       "    <tr>\n",
       "      <th>1</th>\n",
       "      <td>No</td>\n",
       "      <td>0744-GKNGE</td>\n",
       "      <td>Female</td>\n",
       "      <td>0</td>\n",
       "      <td>Yes</td>\n",
       "      <td>Yes</td>\n",
       "      <td>64</td>\n",
       "      <td>Yes</td>\n",
       "      <td>Yes</td>\n",
       "      <td>Fiber optic</td>\n",
       "      <td>...</td>\n",
       "      <td>No</td>\n",
       "      <td>No</td>\n",
       "      <td>Yes</td>\n",
       "      <td>No</td>\n",
       "      <td>No</td>\n",
       "      <td>Month-to-month</td>\n",
       "      <td>Yes</td>\n",
       "      <td>Bank transfer (automatic)</td>\n",
       "      <td>86.80</td>\n",
       "      <td>5327.25</td>\n",
       "    </tr>\n",
       "    <tr>\n",
       "      <th>2</th>\n",
       "      <td>No</td>\n",
       "      <td>1755-RMCXH</td>\n",
       "      <td>Male</td>\n",
       "      <td>0</td>\n",
       "      <td>Yes</td>\n",
       "      <td>Yes</td>\n",
       "      <td>2</td>\n",
       "      <td>Yes</td>\n",
       "      <td>No</td>\n",
       "      <td>No</td>\n",
       "      <td>...</td>\n",
       "      <td>No internet service</td>\n",
       "      <td>No internet service</td>\n",
       "      <td>No internet service</td>\n",
       "      <td>No internet service</td>\n",
       "      <td>No internet service</td>\n",
       "      <td>Month-to-month</td>\n",
       "      <td>No</td>\n",
       "      <td>Mailed check</td>\n",
       "      <td>20.30</td>\n",
       "      <td>40.25</td>\n",
       "    </tr>\n",
       "    <tr>\n",
       "      <th>3</th>\n",
       "      <td>No</td>\n",
       "      <td>8200-LGKSR</td>\n",
       "      <td>Male</td>\n",
       "      <td>0</td>\n",
       "      <td>Yes</td>\n",
       "      <td>No</td>\n",
       "      <td>71</td>\n",
       "      <td>Yes</td>\n",
       "      <td>Yes</td>\n",
       "      <td>DSL</td>\n",
       "      <td>...</td>\n",
       "      <td>No</td>\n",
       "      <td>Yes</td>\n",
       "      <td>Yes</td>\n",
       "      <td>Yes</td>\n",
       "      <td>Yes</td>\n",
       "      <td>Two year</td>\n",
       "      <td>No</td>\n",
       "      <td>Electronic check</td>\n",
       "      <td>83.20</td>\n",
       "      <td>6126.1</td>\n",
       "    </tr>\n",
       "    <tr>\n",
       "      <th>4</th>\n",
       "      <td>No</td>\n",
       "      <td>4698-KVLLG</td>\n",
       "      <td>Female</td>\n",
       "      <td>1</td>\n",
       "      <td>No</td>\n",
       "      <td>No</td>\n",
       "      <td>51</td>\n",
       "      <td>Yes</td>\n",
       "      <td>No</td>\n",
       "      <td>No</td>\n",
       "      <td>...</td>\n",
       "      <td>No internet service</td>\n",
       "      <td>No internet service</td>\n",
       "      <td>No internet service</td>\n",
       "      <td>No internet service</td>\n",
       "      <td>No internet service</td>\n",
       "      <td>Two year</td>\n",
       "      <td>No</td>\n",
       "      <td>Credit card (automatic)</td>\n",
       "      <td>19.60</td>\n",
       "      <td>967.9</td>\n",
       "    </tr>\n",
       "  </tbody>\n",
       "</table>\n",
       "<p>5 rows × 21 columns</p>\n",
       "</div>"
      ],
      "text/plain": [
       "  Churn  customerID  gender  SeniorCitizen Partner Dependents  tenure  \\\n",
       "0    No  3798-EPWRR  Female              1      No         No       2   \n",
       "1    No  0744-GKNGE  Female              0     Yes        Yes      64   \n",
       "2    No  1755-RMCXH    Male              0     Yes        Yes       2   \n",
       "3    No  8200-LGKSR    Male              0     Yes         No      71   \n",
       "4    No  4698-KVLLG  Female              1      No         No      51   \n",
       "\n",
       "  PhoneService MultipleLines InternetService  ...         OnlineBackup  \\\n",
       "0          Yes            No             DSL  ...                   No   \n",
       "1          Yes           Yes     Fiber optic  ...                   No   \n",
       "2          Yes            No              No  ...  No internet service   \n",
       "3          Yes           Yes             DSL  ...                   No   \n",
       "4          Yes            No              No  ...  No internet service   \n",
       "\n",
       "      DeviceProtection          TechSupport          StreamingTV  \\\n",
       "0                   No                   No                   No   \n",
       "1                   No                  Yes                   No   \n",
       "2  No internet service  No internet service  No internet service   \n",
       "3                  Yes                  Yes                  Yes   \n",
       "4  No internet service  No internet service  No internet service   \n",
       "\n",
       "       StreamingMovies        Contract PaperlessBilling  \\\n",
       "0                   No  Month-to-month               No   \n",
       "1                   No  Month-to-month              Yes   \n",
       "2  No internet service  Month-to-month               No   \n",
       "3                  Yes        Two year               No   \n",
       "4  No internet service        Two year               No   \n",
       "\n",
       "               PaymentMethod MonthlyCharges  TotalCharges  \n",
       "0           Electronic check          43.95          85.1  \n",
       "1  Bank transfer (automatic)          86.80       5327.25  \n",
       "2               Mailed check          20.30         40.25  \n",
       "3           Electronic check          83.20        6126.1  \n",
       "4    Credit card (automatic)          19.60         967.9  \n",
       "\n",
       "[5 rows x 21 columns]"
      ]
     },
     "execution_count": 10,
     "metadata": {},
     "output_type": "execute_result"
    }
   ],
   "source": [
    "train.head()"
   ]
  },
  {
   "cell_type": "code",
   "execution_count": 11,
   "metadata": {},
   "outputs": [
    {
     "name": "stdout",
     "output_type": "stream",
     "text": [
      "Features:  Churn\n",
      "No     842\n",
      "Yes    285\n",
      "Name: Churn, dtype: int64\n",
      "\n",
      "*****************\n",
      "\n",
      "Features:  customerID\n",
      "5321-NTRKC    1\n",
      "6818-DJXAA    1\n",
      "5419-KLXBN    1\n",
      "1370-GGAWX    1\n",
      "2202-CUYXZ    1\n",
      "             ..\n",
      "1703-MGIAB    1\n",
      "7108-DGVUU    1\n",
      "4422-QVIJA    1\n",
      "0562-HKHML    1\n",
      "6223-DHJGV    1\n",
      "Name: customerID, Length: 1127, dtype: int64\n",
      "\n",
      "*****************\n",
      "\n",
      "Features:  gender\n",
      "Male      588\n",
      "Female    539\n",
      "Name: gender, dtype: int64\n",
      "\n",
      "*****************\n",
      "\n",
      "Features:  SeniorCitizen\n",
      "0    939\n",
      "1    188\n",
      "Name: SeniorCitizen, dtype: int64\n",
      "\n",
      "*****************\n",
      "\n",
      "Features:  Partner\n",
      "No     581\n",
      "Yes    546\n",
      "Name: Partner, dtype: int64\n",
      "\n",
      "*****************\n",
      "\n",
      "Features:  Dependents\n",
      "No     784\n",
      "Yes    343\n",
      "Name: Dependents, dtype: int64\n",
      "\n",
      "*****************\n",
      "\n",
      "Features:  tenure\n",
      "1     89\n",
      "72    58\n",
      "3     35\n",
      "2     31\n",
      "71    28\n",
      "      ..\n",
      "33     7\n",
      "58     7\n",
      "63     7\n",
      "23     6\n",
      "0      2\n",
      "Name: tenure, Length: 73, dtype: int64\n",
      "\n",
      "*****************\n",
      "\n",
      "Features:  PhoneService\n",
      "Yes    1010\n",
      "No      117\n",
      "Name: PhoneService, dtype: int64\n",
      "\n",
      "*****************\n",
      "\n",
      "Features:  MultipleLines\n",
      "No                  539\n",
      "Yes                 471\n",
      "No phone service    117\n",
      "Name: MultipleLines, dtype: int64\n",
      "\n",
      "*****************\n",
      "\n",
      "Features:  InternetService\n",
      "Fiber optic    464\n",
      "DSL            429\n",
      "No             234\n",
      "Name: InternetService, dtype: int64\n",
      "\n",
      "*****************\n",
      "\n",
      "Features:  OnlineSecurity\n",
      "No                     554\n",
      "Yes                    339\n",
      "No internet service    234\n",
      "Name: OnlineSecurity, dtype: int64\n",
      "\n",
      "*****************\n",
      "\n",
      "Features:  OnlineBackup\n",
      "No                     501\n",
      "Yes                    392\n",
      "No internet service    234\n",
      "Name: OnlineBackup, dtype: int64\n",
      "\n",
      "*****************\n",
      "\n",
      "Features:  DeviceProtection\n",
      "No                     505\n",
      "Yes                    388\n",
      "No internet service    234\n",
      "Name: DeviceProtection, dtype: int64\n",
      "\n",
      "*****************\n",
      "\n",
      "Features:  TechSupport\n",
      "No                     540\n",
      "Yes                    353\n",
      "No internet service    234\n",
      "Name: TechSupport, dtype: int64\n",
      "\n",
      "*****************\n",
      "\n",
      "Features:  StreamingTV\n",
      "Yes                    451\n",
      "No                     442\n",
      "No internet service    234\n",
      "Name: StreamingTV, dtype: int64\n",
      "\n",
      "*****************\n",
      "\n",
      "Features:  StreamingMovies\n",
      "Yes                    453\n",
      "No                     440\n",
      "No internet service    234\n",
      "Name: StreamingMovies, dtype: int64\n",
      "\n",
      "*****************\n",
      "\n",
      "Features:  Contract\n",
      "Month-to-month    617\n",
      "Two year          286\n",
      "One year          224\n",
      "Name: Contract, dtype: int64\n",
      "\n",
      "*****************\n",
      "\n",
      "Features:  PaperlessBilling\n",
      "Yes    653\n",
      "No     474\n",
      "Name: PaperlessBilling, dtype: int64\n",
      "\n",
      "*****************\n",
      "\n",
      "Features:  PaymentMethod\n",
      "Electronic check             389\n",
      "Mailed check                 259\n",
      "Credit card (automatic)      240\n",
      "Bank transfer (automatic)    239\n",
      "Name: PaymentMethod, dtype: int64\n",
      "\n",
      "*****************\n",
      "\n",
      "Features:  MonthlyCharges\n",
      "20.05    13\n",
      "20.20    11\n",
      "19.95    10\n",
      "19.80     9\n",
      "20.10     8\n",
      "         ..\n",
      "91.35     1\n",
      "50.35     1\n",
      "81.55     1\n",
      "29.30     1\n",
      "81.00     1\n",
      "Name: MonthlyCharges, Length: 694, dtype: int64\n",
      "\n",
      "*****************\n",
      "\n",
      "Features:  TotalCharges\n",
      "20.2       6\n",
      "20.05      3\n",
      "654.85     2\n",
      "           2\n",
      "60.65      2\n",
      "          ..\n",
      "535.05     1\n",
      "511.25     1\n",
      "3162.65    1\n",
      "5629.55    1\n",
      "505.45     1\n",
      "Name: TotalCharges, Length: 1110, dtype: int64\n",
      "\n",
      "*****************\n",
      "\n"
     ]
    }
   ],
   "source": [
    "for c in test.columns:\n",
    "    print (\"Features: \", c)\n",
    "    print(test[c].value_counts())\n",
    "    print(\"\\n*****************\\n\")"
   ]
  },
  {
   "cell_type": "markdown",
   "metadata": {},
   "source": [
    "# ci sono dei valori mancanti nel train e nel test"
   ]
  },
  {
   "cell_type": "code",
   "execution_count": 12,
   "metadata": {},
   "outputs": [
    {
     "name": "stdout",
     "output_type": "stream",
     "text": [
      "Valori mancanti: 8\n"
     ]
    }
   ],
   "source": [
    "print(\"Valori mancanti:\", (train[\"TotalCharges\"]==\" \").sum())"
   ]
  },
  {
   "cell_type": "code",
   "execution_count": 13,
   "metadata": {},
   "outputs": [
    {
     "name": "stdout",
     "output_type": "stream",
     "text": [
      "Valori mancanti: 2\n"
     ]
    }
   ],
   "source": [
    "print(\"Valori mancanti:\", (test[\"TotalCharges\"]==\" \").sum())"
   ]
  },
  {
   "cell_type": "markdown",
   "metadata": {},
   "source": [
    "# osservo il tipo dei dati"
   ]
  },
  {
   "cell_type": "code",
   "execution_count": 14,
   "metadata": {},
   "outputs": [
    {
     "name": "stdout",
     "output_type": "stream",
     "text": [
      "<class 'pandas.core.frame.DataFrame'>\n",
      "RangeIndex: 4507 entries, 0 to 4506\n",
      "Data columns (total 21 columns):\n",
      " #   Column            Non-Null Count  Dtype  \n",
      "---  ------            --------------  -----  \n",
      " 0   Churn             4507 non-null   object \n",
      " 1   customerID        4507 non-null   object \n",
      " 2   gender            4507 non-null   object \n",
      " 3   SeniorCitizen     4507 non-null   int64  \n",
      " 4   Partner           4507 non-null   object \n",
      " 5   Dependents        4507 non-null   object \n",
      " 6   tenure            4507 non-null   int64  \n",
      " 7   PhoneService      4507 non-null   object \n",
      " 8   MultipleLines     4507 non-null   object \n",
      " 9   InternetService   4507 non-null   object \n",
      " 10  OnlineSecurity    4507 non-null   object \n",
      " 11  OnlineBackup      4507 non-null   object \n",
      " 12  DeviceProtection  4507 non-null   object \n",
      " 13  TechSupport       4507 non-null   object \n",
      " 14  StreamingTV       4507 non-null   object \n",
      " 15  StreamingMovies   4507 non-null   object \n",
      " 16  Contract          4507 non-null   object \n",
      " 17  PaperlessBilling  4507 non-null   object \n",
      " 18  PaymentMethod     4507 non-null   object \n",
      " 19  MonthlyCharges    4507 non-null   float64\n",
      " 20  TotalCharges      4507 non-null   object \n",
      "dtypes: float64(1), int64(2), object(18)\n",
      "memory usage: 739.6+ KB\n"
     ]
    }
   ],
   "source": [
    "train.info()"
   ]
  },
  {
   "cell_type": "markdown",
   "metadata": {},
   "source": [
    "# Mi stampo il dataset per quanto riguarda solo i record che presentano i valori nulli "
   ]
  },
  {
   "cell_type": "code",
   "execution_count": 15,
   "metadata": {},
   "outputs": [
    {
     "data": {
      "text/html": [
       "<div>\n",
       "<style scoped>\n",
       "    .dataframe tbody tr th:only-of-type {\n",
       "        vertical-align: middle;\n",
       "    }\n",
       "\n",
       "    .dataframe tbody tr th {\n",
       "        vertical-align: top;\n",
       "    }\n",
       "\n",
       "    .dataframe thead th {\n",
       "        text-align: right;\n",
       "    }\n",
       "</style>\n",
       "<table border=\"1\" class=\"dataframe\">\n",
       "  <thead>\n",
       "    <tr style=\"text-align: right;\">\n",
       "      <th></th>\n",
       "      <th>Churn</th>\n",
       "      <th>customerID</th>\n",
       "      <th>gender</th>\n",
       "      <th>SeniorCitizen</th>\n",
       "      <th>Partner</th>\n",
       "      <th>Dependents</th>\n",
       "      <th>tenure</th>\n",
       "      <th>PhoneService</th>\n",
       "      <th>MultipleLines</th>\n",
       "      <th>InternetService</th>\n",
       "      <th>...</th>\n",
       "      <th>OnlineBackup</th>\n",
       "      <th>DeviceProtection</th>\n",
       "      <th>TechSupport</th>\n",
       "      <th>StreamingTV</th>\n",
       "      <th>StreamingMovies</th>\n",
       "      <th>Contract</th>\n",
       "      <th>PaperlessBilling</th>\n",
       "      <th>PaymentMethod</th>\n",
       "      <th>MonthlyCharges</th>\n",
       "      <th>TotalCharges</th>\n",
       "    </tr>\n",
       "  </thead>\n",
       "  <tbody>\n",
       "    <tr>\n",
       "      <th>75</th>\n",
       "      <td>No</td>\n",
       "      <td>2520-SGTTA</td>\n",
       "      <td>Female</td>\n",
       "      <td>0</td>\n",
       "      <td>Yes</td>\n",
       "      <td>Yes</td>\n",
       "      <td>0</td>\n",
       "      <td>Yes</td>\n",
       "      <td>No</td>\n",
       "      <td>No</td>\n",
       "      <td>...</td>\n",
       "      <td>No internet service</td>\n",
       "      <td>No internet service</td>\n",
       "      <td>No internet service</td>\n",
       "      <td>No internet service</td>\n",
       "      <td>No internet service</td>\n",
       "      <td>Two year</td>\n",
       "      <td>No</td>\n",
       "      <td>Mailed check</td>\n",
       "      <td>20.00</td>\n",
       "      <td></td>\n",
       "    </tr>\n",
       "    <tr>\n",
       "      <th>359</th>\n",
       "      <td>No</td>\n",
       "      <td>2923-ARZLG</td>\n",
       "      <td>Male</td>\n",
       "      <td>0</td>\n",
       "      <td>Yes</td>\n",
       "      <td>Yes</td>\n",
       "      <td>0</td>\n",
       "      <td>Yes</td>\n",
       "      <td>No</td>\n",
       "      <td>No</td>\n",
       "      <td>...</td>\n",
       "      <td>No internet service</td>\n",
       "      <td>No internet service</td>\n",
       "      <td>No internet service</td>\n",
       "      <td>No internet service</td>\n",
       "      <td>No internet service</td>\n",
       "      <td>One year</td>\n",
       "      <td>Yes</td>\n",
       "      <td>Mailed check</td>\n",
       "      <td>19.70</td>\n",
       "      <td></td>\n",
       "    </tr>\n",
       "    <tr>\n",
       "      <th>1618</th>\n",
       "      <td>No</td>\n",
       "      <td>3115-CZMZD</td>\n",
       "      <td>Male</td>\n",
       "      <td>0</td>\n",
       "      <td>No</td>\n",
       "      <td>Yes</td>\n",
       "      <td>0</td>\n",
       "      <td>Yes</td>\n",
       "      <td>No</td>\n",
       "      <td>No</td>\n",
       "      <td>...</td>\n",
       "      <td>No internet service</td>\n",
       "      <td>No internet service</td>\n",
       "      <td>No internet service</td>\n",
       "      <td>No internet service</td>\n",
       "      <td>No internet service</td>\n",
       "      <td>Two year</td>\n",
       "      <td>No</td>\n",
       "      <td>Mailed check</td>\n",
       "      <td>20.25</td>\n",
       "      <td></td>\n",
       "    </tr>\n",
       "    <tr>\n",
       "      <th>1932</th>\n",
       "      <td>No</td>\n",
       "      <td>4367-NUYAO</td>\n",
       "      <td>Male</td>\n",
       "      <td>0</td>\n",
       "      <td>Yes</td>\n",
       "      <td>Yes</td>\n",
       "      <td>0</td>\n",
       "      <td>Yes</td>\n",
       "      <td>Yes</td>\n",
       "      <td>No</td>\n",
       "      <td>...</td>\n",
       "      <td>No internet service</td>\n",
       "      <td>No internet service</td>\n",
       "      <td>No internet service</td>\n",
       "      <td>No internet service</td>\n",
       "      <td>No internet service</td>\n",
       "      <td>Two year</td>\n",
       "      <td>No</td>\n",
       "      <td>Mailed check</td>\n",
       "      <td>25.75</td>\n",
       "      <td></td>\n",
       "    </tr>\n",
       "    <tr>\n",
       "      <th>2327</th>\n",
       "      <td>No</td>\n",
       "      <td>5709-LVOEQ</td>\n",
       "      <td>Female</td>\n",
       "      <td>0</td>\n",
       "      <td>Yes</td>\n",
       "      <td>Yes</td>\n",
       "      <td>0</td>\n",
       "      <td>Yes</td>\n",
       "      <td>No</td>\n",
       "      <td>DSL</td>\n",
       "      <td>...</td>\n",
       "      <td>Yes</td>\n",
       "      <td>Yes</td>\n",
       "      <td>No</td>\n",
       "      <td>Yes</td>\n",
       "      <td>Yes</td>\n",
       "      <td>Two year</td>\n",
       "      <td>No</td>\n",
       "      <td>Mailed check</td>\n",
       "      <td>80.85</td>\n",
       "      <td></td>\n",
       "    </tr>\n",
       "    <tr>\n",
       "      <th>2926</th>\n",
       "      <td>No</td>\n",
       "      <td>3213-VVOLG</td>\n",
       "      <td>Male</td>\n",
       "      <td>0</td>\n",
       "      <td>Yes</td>\n",
       "      <td>Yes</td>\n",
       "      <td>0</td>\n",
       "      <td>Yes</td>\n",
       "      <td>Yes</td>\n",
       "      <td>No</td>\n",
       "      <td>...</td>\n",
       "      <td>No internet service</td>\n",
       "      <td>No internet service</td>\n",
       "      <td>No internet service</td>\n",
       "      <td>No internet service</td>\n",
       "      <td>No internet service</td>\n",
       "      <td>Two year</td>\n",
       "      <td>No</td>\n",
       "      <td>Mailed check</td>\n",
       "      <td>25.35</td>\n",
       "      <td></td>\n",
       "    </tr>\n",
       "    <tr>\n",
       "      <th>3422</th>\n",
       "      <td>No</td>\n",
       "      <td>4472-LVYGI</td>\n",
       "      <td>Female</td>\n",
       "      <td>0</td>\n",
       "      <td>Yes</td>\n",
       "      <td>Yes</td>\n",
       "      <td>0</td>\n",
       "      <td>No</td>\n",
       "      <td>No phone service</td>\n",
       "      <td>DSL</td>\n",
       "      <td>...</td>\n",
       "      <td>No</td>\n",
       "      <td>Yes</td>\n",
       "      <td>Yes</td>\n",
       "      <td>Yes</td>\n",
       "      <td>No</td>\n",
       "      <td>Two year</td>\n",
       "      <td>Yes</td>\n",
       "      <td>Bank transfer (automatic)</td>\n",
       "      <td>52.55</td>\n",
       "      <td></td>\n",
       "    </tr>\n",
       "    <tr>\n",
       "      <th>4174</th>\n",
       "      <td>No</td>\n",
       "      <td>7644-OMVMY</td>\n",
       "      <td>Male</td>\n",
       "      <td>0</td>\n",
       "      <td>Yes</td>\n",
       "      <td>Yes</td>\n",
       "      <td>0</td>\n",
       "      <td>Yes</td>\n",
       "      <td>No</td>\n",
       "      <td>No</td>\n",
       "      <td>...</td>\n",
       "      <td>No internet service</td>\n",
       "      <td>No internet service</td>\n",
       "      <td>No internet service</td>\n",
       "      <td>No internet service</td>\n",
       "      <td>No internet service</td>\n",
       "      <td>Two year</td>\n",
       "      <td>No</td>\n",
       "      <td>Mailed check</td>\n",
       "      <td>19.85</td>\n",
       "      <td></td>\n",
       "    </tr>\n",
       "  </tbody>\n",
       "</table>\n",
       "<p>8 rows × 21 columns</p>\n",
       "</div>"
      ],
      "text/plain": [
       "     Churn  customerID  gender  SeniorCitizen Partner Dependents  tenure  \\\n",
       "75      No  2520-SGTTA  Female              0     Yes        Yes       0   \n",
       "359     No  2923-ARZLG    Male              0     Yes        Yes       0   \n",
       "1618    No  3115-CZMZD    Male              0      No        Yes       0   \n",
       "1932    No  4367-NUYAO    Male              0     Yes        Yes       0   \n",
       "2327    No  5709-LVOEQ  Female              0     Yes        Yes       0   \n",
       "2926    No  3213-VVOLG    Male              0     Yes        Yes       0   \n",
       "3422    No  4472-LVYGI  Female              0     Yes        Yes       0   \n",
       "4174    No  7644-OMVMY    Male              0     Yes        Yes       0   \n",
       "\n",
       "     PhoneService     MultipleLines InternetService  ...         OnlineBackup  \\\n",
       "75            Yes                No              No  ...  No internet service   \n",
       "359           Yes                No              No  ...  No internet service   \n",
       "1618          Yes                No              No  ...  No internet service   \n",
       "1932          Yes               Yes              No  ...  No internet service   \n",
       "2327          Yes                No             DSL  ...                  Yes   \n",
       "2926          Yes               Yes              No  ...  No internet service   \n",
       "3422           No  No phone service             DSL  ...                   No   \n",
       "4174          Yes                No              No  ...  No internet service   \n",
       "\n",
       "         DeviceProtection          TechSupport          StreamingTV  \\\n",
       "75    No internet service  No internet service  No internet service   \n",
       "359   No internet service  No internet service  No internet service   \n",
       "1618  No internet service  No internet service  No internet service   \n",
       "1932  No internet service  No internet service  No internet service   \n",
       "2327                  Yes                   No                  Yes   \n",
       "2926  No internet service  No internet service  No internet service   \n",
       "3422                  Yes                  Yes                  Yes   \n",
       "4174  No internet service  No internet service  No internet service   \n",
       "\n",
       "          StreamingMovies  Contract PaperlessBilling  \\\n",
       "75    No internet service  Two year               No   \n",
       "359   No internet service  One year              Yes   \n",
       "1618  No internet service  Two year               No   \n",
       "1932  No internet service  Two year               No   \n",
       "2327                  Yes  Two year               No   \n",
       "2926  No internet service  Two year               No   \n",
       "3422                   No  Two year              Yes   \n",
       "4174  No internet service  Two year               No   \n",
       "\n",
       "                  PaymentMethod MonthlyCharges  TotalCharges  \n",
       "75                 Mailed check          20.00                \n",
       "359                Mailed check          19.70                \n",
       "1618               Mailed check          20.25                \n",
       "1932               Mailed check          25.75                \n",
       "2327               Mailed check          80.85                \n",
       "2926               Mailed check          25.35                \n",
       "3422  Bank transfer (automatic)          52.55                \n",
       "4174               Mailed check          19.85                \n",
       "\n",
       "[8 rows x 21 columns]"
      ]
     },
     "execution_count": 15,
     "metadata": {},
     "output_type": "execute_result"
    }
   ],
   "source": [
    "train.loc[train['TotalCharges'] == ' ']"
   ]
  },
  {
   "cell_type": "markdown",
   "metadata": {},
   "source": [
    "# Sostituisco i valori nulli con NaN sia nel train sia nel test"
   ]
  },
  {
   "cell_type": "code",
   "execution_count": 16,
   "metadata": {},
   "outputs": [],
   "source": [
    "train.TotalCharges= train[\"TotalCharges\"].replace(' ',np.NaN)"
   ]
  },
  {
   "cell_type": "code",
   "execution_count": 17,
   "metadata": {},
   "outputs": [],
   "source": [
    "test.TotalCharges= test[\"TotalCharges\"].replace(' ',np.NaN)"
   ]
  },
  {
   "cell_type": "markdown",
   "metadata": {},
   "source": [
    "# verifico che non ci siano più valori rappresentati dallo spazio"
   ]
  },
  {
   "cell_type": "code",
   "execution_count": 18,
   "metadata": {},
   "outputs": [
    {
     "data": {
      "text/html": [
       "<div>\n",
       "<style scoped>\n",
       "    .dataframe tbody tr th:only-of-type {\n",
       "        vertical-align: middle;\n",
       "    }\n",
       "\n",
       "    .dataframe tbody tr th {\n",
       "        vertical-align: top;\n",
       "    }\n",
       "\n",
       "    .dataframe thead th {\n",
       "        text-align: right;\n",
       "    }\n",
       "</style>\n",
       "<table border=\"1\" class=\"dataframe\">\n",
       "  <thead>\n",
       "    <tr style=\"text-align: right;\">\n",
       "      <th></th>\n",
       "      <th>Churn</th>\n",
       "      <th>customerID</th>\n",
       "      <th>gender</th>\n",
       "      <th>SeniorCitizen</th>\n",
       "      <th>Partner</th>\n",
       "      <th>Dependents</th>\n",
       "      <th>tenure</th>\n",
       "      <th>PhoneService</th>\n",
       "      <th>MultipleLines</th>\n",
       "      <th>InternetService</th>\n",
       "      <th>...</th>\n",
       "      <th>OnlineBackup</th>\n",
       "      <th>DeviceProtection</th>\n",
       "      <th>TechSupport</th>\n",
       "      <th>StreamingTV</th>\n",
       "      <th>StreamingMovies</th>\n",
       "      <th>Contract</th>\n",
       "      <th>PaperlessBilling</th>\n",
       "      <th>PaymentMethod</th>\n",
       "      <th>MonthlyCharges</th>\n",
       "      <th>TotalCharges</th>\n",
       "    </tr>\n",
       "  </thead>\n",
       "  <tbody>\n",
       "  </tbody>\n",
       "</table>\n",
       "<p>0 rows × 21 columns</p>\n",
       "</div>"
      ],
      "text/plain": [
       "Empty DataFrame\n",
       "Columns: [Churn, customerID, gender, SeniorCitizen, Partner, Dependents, tenure, PhoneService, MultipleLines, InternetService, OnlineSecurity, OnlineBackup, DeviceProtection, TechSupport, StreamingTV, StreamingMovies, Contract, PaperlessBilling, PaymentMethod, MonthlyCharges, TotalCharges]\n",
       "Index: []\n",
       "\n",
       "[0 rows x 21 columns]"
      ]
     },
     "execution_count": 18,
     "metadata": {},
     "output_type": "execute_result"
    }
   ],
   "source": [
    "train.loc[train['TotalCharges'] == ' ']"
   ]
  },
  {
   "cell_type": "code",
   "execution_count": 19,
   "metadata": {},
   "outputs": [
    {
     "data": {
      "text/html": [
       "<div>\n",
       "<style scoped>\n",
       "    .dataframe tbody tr th:only-of-type {\n",
       "        vertical-align: middle;\n",
       "    }\n",
       "\n",
       "    .dataframe tbody tr th {\n",
       "        vertical-align: top;\n",
       "    }\n",
       "\n",
       "    .dataframe thead th {\n",
       "        text-align: right;\n",
       "    }\n",
       "</style>\n",
       "<table border=\"1\" class=\"dataframe\">\n",
       "  <thead>\n",
       "    <tr style=\"text-align: right;\">\n",
       "      <th></th>\n",
       "      <th>Churn</th>\n",
       "      <th>customerID</th>\n",
       "      <th>gender</th>\n",
       "      <th>SeniorCitizen</th>\n",
       "      <th>Partner</th>\n",
       "      <th>Dependents</th>\n",
       "      <th>tenure</th>\n",
       "      <th>PhoneService</th>\n",
       "      <th>MultipleLines</th>\n",
       "      <th>InternetService</th>\n",
       "      <th>...</th>\n",
       "      <th>OnlineBackup</th>\n",
       "      <th>DeviceProtection</th>\n",
       "      <th>TechSupport</th>\n",
       "      <th>StreamingTV</th>\n",
       "      <th>StreamingMovies</th>\n",
       "      <th>Contract</th>\n",
       "      <th>PaperlessBilling</th>\n",
       "      <th>PaymentMethod</th>\n",
       "      <th>MonthlyCharges</th>\n",
       "      <th>TotalCharges</th>\n",
       "    </tr>\n",
       "  </thead>\n",
       "  <tbody>\n",
       "  </tbody>\n",
       "</table>\n",
       "<p>0 rows × 21 columns</p>\n",
       "</div>"
      ],
      "text/plain": [
       "Empty DataFrame\n",
       "Columns: [Churn, customerID, gender, SeniorCitizen, Partner, Dependents, tenure, PhoneService, MultipleLines, InternetService, OnlineSecurity, OnlineBackup, DeviceProtection, TechSupport, StreamingTV, StreamingMovies, Contract, PaperlessBilling, PaymentMethod, MonthlyCharges, TotalCharges]\n",
       "Index: []\n",
       "\n",
       "[0 rows x 21 columns]"
      ]
     },
     "execution_count": 19,
     "metadata": {},
     "output_type": "execute_result"
    }
   ],
   "source": [
    "test.loc[test['TotalCharges'] == ' ']"
   ]
  },
  {
   "cell_type": "code",
   "execution_count": 20,
   "metadata": {},
   "outputs": [
    {
     "data": {
      "text/html": [
       "<div>\n",
       "<style scoped>\n",
       "    .dataframe tbody tr th:only-of-type {\n",
       "        vertical-align: middle;\n",
       "    }\n",
       "\n",
       "    .dataframe tbody tr th {\n",
       "        vertical-align: top;\n",
       "    }\n",
       "\n",
       "    .dataframe thead th {\n",
       "        text-align: right;\n",
       "    }\n",
       "</style>\n",
       "<table border=\"1\" class=\"dataframe\">\n",
       "  <thead>\n",
       "    <tr style=\"text-align: right;\">\n",
       "      <th></th>\n",
       "      <th>Churn</th>\n",
       "      <th>customerID</th>\n",
       "      <th>gender</th>\n",
       "      <th>SeniorCitizen</th>\n",
       "      <th>Partner</th>\n",
       "      <th>Dependents</th>\n",
       "      <th>tenure</th>\n",
       "      <th>PhoneService</th>\n",
       "      <th>MultipleLines</th>\n",
       "      <th>InternetService</th>\n",
       "      <th>...</th>\n",
       "      <th>OnlineBackup</th>\n",
       "      <th>DeviceProtection</th>\n",
       "      <th>TechSupport</th>\n",
       "      <th>StreamingTV</th>\n",
       "      <th>StreamingMovies</th>\n",
       "      <th>Contract</th>\n",
       "      <th>PaperlessBilling</th>\n",
       "      <th>PaymentMethod</th>\n",
       "      <th>MonthlyCharges</th>\n",
       "      <th>TotalCharges</th>\n",
       "    </tr>\n",
       "  </thead>\n",
       "  <tbody>\n",
       "    <tr>\n",
       "      <th>3422</th>\n",
       "      <td>No</td>\n",
       "      <td>4472-LVYGI</td>\n",
       "      <td>Female</td>\n",
       "      <td>0</td>\n",
       "      <td>Yes</td>\n",
       "      <td>Yes</td>\n",
       "      <td>0</td>\n",
       "      <td>No</td>\n",
       "      <td>No phone service</td>\n",
       "      <td>DSL</td>\n",
       "      <td>...</td>\n",
       "      <td>No</td>\n",
       "      <td>Yes</td>\n",
       "      <td>Yes</td>\n",
       "      <td>Yes</td>\n",
       "      <td>No</td>\n",
       "      <td>Two year</td>\n",
       "      <td>Yes</td>\n",
       "      <td>Bank transfer (automatic)</td>\n",
       "      <td>52.55</td>\n",
       "      <td>NaN</td>\n",
       "    </tr>\n",
       "  </tbody>\n",
       "</table>\n",
       "<p>1 rows × 21 columns</p>\n",
       "</div>"
      ],
      "text/plain": [
       "     Churn  customerID  gender  SeniorCitizen Partner Dependents  tenure  \\\n",
       "3422    No  4472-LVYGI  Female              0     Yes        Yes       0   \n",
       "\n",
       "     PhoneService     MultipleLines InternetService  ... OnlineBackup  \\\n",
       "3422           No  No phone service             DSL  ...           No   \n",
       "\n",
       "     DeviceProtection TechSupport StreamingTV StreamingMovies  Contract  \\\n",
       "3422              Yes         Yes         Yes              No  Two year   \n",
       "\n",
       "     PaperlessBilling              PaymentMethod MonthlyCharges  TotalCharges  \n",
       "3422              Yes  Bank transfer (automatic)          52.55           NaN  \n",
       "\n",
       "[1 rows x 21 columns]"
      ]
     },
     "execution_count": 20,
     "metadata": {},
     "output_type": "execute_result"
    }
   ],
   "source": [
    "train.loc[train['customerID'] == '4472-LVYGI']"
   ]
  },
  {
   "cell_type": "markdown",
   "metadata": {},
   "source": [
    "# applico una conversione alla feature TotalCharges"
   ]
  },
  {
   "cell_type": "code",
   "execution_count": 21,
   "metadata": {},
   "outputs": [],
   "source": [
    "\n",
    "train[\"TotalCharges\"] = pd.to_numeric(train[\"TotalCharges\"])"
   ]
  },
  {
   "cell_type": "code",
   "execution_count": 22,
   "metadata": {},
   "outputs": [],
   "source": [
    "test[\"TotalCharges\"] = pd.to_numeric(test[\"TotalCharges\"])"
   ]
  },
  {
   "cell_type": "markdown",
   "metadata": {},
   "source": [
    "# verifico che non si siano persi valori nulli"
   ]
  },
  {
   "cell_type": "code",
   "execution_count": 23,
   "metadata": {},
   "outputs": [
    {
     "name": "stdout",
     "output_type": "stream",
     "text": [
      "Churn               0\n",
      "customerID          0\n",
      "gender              0\n",
      "SeniorCitizen       0\n",
      "Partner             0\n",
      "Dependents          0\n",
      "tenure              0\n",
      "PhoneService        0\n",
      "MultipleLines       0\n",
      "InternetService     0\n",
      "OnlineSecurity      0\n",
      "OnlineBackup        0\n",
      "DeviceProtection    0\n",
      "TechSupport         0\n",
      "StreamingTV         0\n",
      "StreamingMovies     0\n",
      "Contract            0\n",
      "PaperlessBilling    0\n",
      "PaymentMethod       0\n",
      "MonthlyCharges      0\n",
      "TotalCharges        8\n",
      "dtype: int64\n"
     ]
    }
   ],
   "source": [
    "print(train.isnull().sum())"
   ]
  },
  {
   "cell_type": "code",
   "execution_count": 24,
   "metadata": {},
   "outputs": [
    {
     "name": "stdout",
     "output_type": "stream",
     "text": [
      "Churn               0\n",
      "customerID          0\n",
      "gender              0\n",
      "SeniorCitizen       0\n",
      "Partner             0\n",
      "Dependents          0\n",
      "tenure              0\n",
      "PhoneService        0\n",
      "MultipleLines       0\n",
      "InternetService     0\n",
      "OnlineSecurity      0\n",
      "OnlineBackup        0\n",
      "DeviceProtection    0\n",
      "TechSupport         0\n",
      "StreamingTV         0\n",
      "StreamingMovies     0\n",
      "Contract            0\n",
      "PaperlessBilling    0\n",
      "PaymentMethod       0\n",
      "MonthlyCharges      0\n",
      "TotalCharges        2\n",
      "dtype: int64\n"
     ]
    }
   ],
   "source": [
    "print(test.isnull().sum())"
   ]
  },
  {
   "cell_type": "markdown",
   "metadata": {},
   "source": [
    "# Dato che i valori nulli sono molto pochi li posso rimpiazzare con la media totale"
   ]
  },
  {
   "cell_type": "code",
   "execution_count": 25,
   "metadata": {},
   "outputs": [],
   "source": [
    "train['TotalCharges'].fillna(train['TotalCharges'].mean(), inplace=True)"
   ]
  },
  {
   "cell_type": "code",
   "execution_count": 26,
   "metadata": {},
   "outputs": [],
   "source": [
    "test['TotalCharges'].fillna(test['TotalCharges'].mean(), inplace=True)"
   ]
  },
  {
   "cell_type": "markdown",
   "metadata": {},
   "source": [
    "# verifico che non ci siano più valori nulli"
   ]
  },
  {
   "cell_type": "code",
   "execution_count": 27,
   "metadata": {},
   "outputs": [
    {
     "name": "stdout",
     "output_type": "stream",
     "text": [
      "Churn               0\n",
      "customerID          0\n",
      "gender              0\n",
      "SeniorCitizen       0\n",
      "Partner             0\n",
      "Dependents          0\n",
      "tenure              0\n",
      "PhoneService        0\n",
      "MultipleLines       0\n",
      "InternetService     0\n",
      "OnlineSecurity      0\n",
      "OnlineBackup        0\n",
      "DeviceProtection    0\n",
      "TechSupport         0\n",
      "StreamingTV         0\n",
      "StreamingMovies     0\n",
      "Contract            0\n",
      "PaperlessBilling    0\n",
      "PaymentMethod       0\n",
      "MonthlyCharges      0\n",
      "TotalCharges        0\n",
      "dtype: int64\n"
     ]
    }
   ],
   "source": [
    "print(train.isnull().sum())"
   ]
  },
  {
   "cell_type": "code",
   "execution_count": 28,
   "metadata": {},
   "outputs": [
    {
     "name": "stdout",
     "output_type": "stream",
     "text": [
      "Churn               0\n",
      "customerID          0\n",
      "gender              0\n",
      "SeniorCitizen       0\n",
      "Partner             0\n",
      "Dependents          0\n",
      "tenure              0\n",
      "PhoneService        0\n",
      "MultipleLines       0\n",
      "InternetService     0\n",
      "OnlineSecurity      0\n",
      "OnlineBackup        0\n",
      "DeviceProtection    0\n",
      "TechSupport         0\n",
      "StreamingTV         0\n",
      "StreamingMovies     0\n",
      "Contract            0\n",
      "PaperlessBilling    0\n",
      "PaymentMethod       0\n",
      "MonthlyCharges      0\n",
      "TotalCharges        0\n",
      "dtype: int64\n"
     ]
    }
   ],
   "source": [
    "print(test.isnull().sum())"
   ]
  },
  {
   "cell_type": "markdown",
   "metadata": {},
   "source": [
    "# Rapida verifica per vedere che effettivamente per un costumerID che presentava valore nullo ora c'è la media"
   ]
  },
  {
   "cell_type": "code",
   "execution_count": 29,
   "metadata": {},
   "outputs": [
    {
     "data": {
      "text/html": [
       "<div>\n",
       "<style scoped>\n",
       "    .dataframe tbody tr th:only-of-type {\n",
       "        vertical-align: middle;\n",
       "    }\n",
       "\n",
       "    .dataframe tbody tr th {\n",
       "        vertical-align: top;\n",
       "    }\n",
       "\n",
       "    .dataframe thead th {\n",
       "        text-align: right;\n",
       "    }\n",
       "</style>\n",
       "<table border=\"1\" class=\"dataframe\">\n",
       "  <thead>\n",
       "    <tr style=\"text-align: right;\">\n",
       "      <th></th>\n",
       "      <th>Churn</th>\n",
       "      <th>customerID</th>\n",
       "      <th>gender</th>\n",
       "      <th>SeniorCitizen</th>\n",
       "      <th>Partner</th>\n",
       "      <th>Dependents</th>\n",
       "      <th>tenure</th>\n",
       "      <th>PhoneService</th>\n",
       "      <th>MultipleLines</th>\n",
       "      <th>InternetService</th>\n",
       "      <th>...</th>\n",
       "      <th>OnlineBackup</th>\n",
       "      <th>DeviceProtection</th>\n",
       "      <th>TechSupport</th>\n",
       "      <th>StreamingTV</th>\n",
       "      <th>StreamingMovies</th>\n",
       "      <th>Contract</th>\n",
       "      <th>PaperlessBilling</th>\n",
       "      <th>PaymentMethod</th>\n",
       "      <th>MonthlyCharges</th>\n",
       "      <th>TotalCharges</th>\n",
       "    </tr>\n",
       "  </thead>\n",
       "  <tbody>\n",
       "    <tr>\n",
       "      <th>75</th>\n",
       "      <td>No</td>\n",
       "      <td>2520-SGTTA</td>\n",
       "      <td>Female</td>\n",
       "      <td>0</td>\n",
       "      <td>Yes</td>\n",
       "      <td>Yes</td>\n",
       "      <td>0</td>\n",
       "      <td>Yes</td>\n",
       "      <td>No</td>\n",
       "      <td>No</td>\n",
       "      <td>...</td>\n",
       "      <td>No internet service</td>\n",
       "      <td>No internet service</td>\n",
       "      <td>No internet service</td>\n",
       "      <td>No internet service</td>\n",
       "      <td>No internet service</td>\n",
       "      <td>Two year</td>\n",
       "      <td>No</td>\n",
       "      <td>Mailed check</td>\n",
       "      <td>20.0</td>\n",
       "      <td>2283.244176</td>\n",
       "    </tr>\n",
       "  </tbody>\n",
       "</table>\n",
       "<p>1 rows × 21 columns</p>\n",
       "</div>"
      ],
      "text/plain": [
       "   Churn  customerID  gender  SeniorCitizen Partner Dependents  tenure  \\\n",
       "75    No  2520-SGTTA  Female              0     Yes        Yes       0   \n",
       "\n",
       "   PhoneService MultipleLines InternetService  ...         OnlineBackup  \\\n",
       "75          Yes            No              No  ...  No internet service   \n",
       "\n",
       "       DeviceProtection          TechSupport          StreamingTV  \\\n",
       "75  No internet service  No internet service  No internet service   \n",
       "\n",
       "        StreamingMovies  Contract PaperlessBilling PaymentMethod  \\\n",
       "75  No internet service  Two year               No  Mailed check   \n",
       "\n",
       "   MonthlyCharges  TotalCharges  \n",
       "75           20.0   2283.244176  \n",
       "\n",
       "[1 rows x 21 columns]"
      ]
     },
     "execution_count": 29,
     "metadata": {},
     "output_type": "execute_result"
    }
   ],
   "source": [
    "train.loc[train['customerID'] == '2520-SGTTA']"
   ]
  },
  {
   "cell_type": "markdown",
   "metadata": {},
   "source": [
    "# Analizzo il dataset devo convertire ad un valore numerico le etichette che presentano come dtypes degli object"
   ]
  },
  {
   "cell_type": "code",
   "execution_count": 30,
   "metadata": {},
   "outputs": [
    {
     "name": "stdout",
     "output_type": "stream",
     "text": [
      "<class 'pandas.core.frame.DataFrame'>\n",
      "RangeIndex: 4507 entries, 0 to 4506\n",
      "Data columns (total 21 columns):\n",
      " #   Column            Non-Null Count  Dtype  \n",
      "---  ------            --------------  -----  \n",
      " 0   Churn             4507 non-null   int64  \n",
      " 1   customerID        4507 non-null   int64  \n",
      " 2   gender            4507 non-null   int64  \n",
      " 3   SeniorCitizen     4507 non-null   int64  \n",
      " 4   Partner           4507 non-null   int64  \n",
      " 5   Dependents        4507 non-null   int64  \n",
      " 6   tenure            4507 non-null   int64  \n",
      " 7   PhoneService      4507 non-null   int64  \n",
      " 8   MultipleLines     4507 non-null   int64  \n",
      " 9   InternetService   4507 non-null   int64  \n",
      " 10  OnlineSecurity    4507 non-null   int64  \n",
      " 11  OnlineBackup      4507 non-null   int64  \n",
      " 12  DeviceProtection  4507 non-null   int64  \n",
      " 13  TechSupport       4507 non-null   int64  \n",
      " 14  StreamingTV       4507 non-null   int64  \n",
      " 15  StreamingMovies   4507 non-null   int64  \n",
      " 16  Contract          4507 non-null   int64  \n",
      " 17  PaperlessBilling  4507 non-null   int64  \n",
      " 18  PaymentMethod     4507 non-null   int64  \n",
      " 19  MonthlyCharges    4507 non-null   float64\n",
      " 20  TotalCharges      4507 non-null   float64\n",
      "dtypes: float64(2), int64(19)\n",
      "memory usage: 739.6 KB\n"
     ]
    }
   ],
   "source": [
    "from sklearn.preprocessing import LabelEncoder\n",
    "Feature = [\"Churn\", \"customerID\", \"gender\", \"Partner\",\"Dependents\", \"PhoneService\", \"MultipleLines\", \"InternetService\", \"OnlineSecurity\", \"OnlineBackup\", \"DeviceProtection\", \"TechSupport\", \"StreamingTV\", \"StreamingMovies\", \"Contract\", \"PaperlessBilling\", \"PaymentMethod\"]\n",
    "labelEncoder_X = LabelEncoder()\n",
    "for element in Feature:\n",
    "    train[element] = labelEncoder_X.fit_transform(train[element])\n",
    "    \n",
    "train.info()"
   ]
  },
  {
   "cell_type": "code",
   "execution_count": 31,
   "metadata": {},
   "outputs": [
    {
     "name": "stdout",
     "output_type": "stream",
     "text": [
      "<class 'pandas.core.frame.DataFrame'>\n",
      "RangeIndex: 1127 entries, 0 to 1126\n",
      "Data columns (total 21 columns):\n",
      " #   Column            Non-Null Count  Dtype  \n",
      "---  ------            --------------  -----  \n",
      " 0   Churn             1127 non-null   int64  \n",
      " 1   customerID        1127 non-null   int64  \n",
      " 2   gender            1127 non-null   int64  \n",
      " 3   SeniorCitizen     1127 non-null   int64  \n",
      " 4   Partner           1127 non-null   int64  \n",
      " 5   Dependents        1127 non-null   int64  \n",
      " 6   tenure            1127 non-null   int64  \n",
      " 7   PhoneService      1127 non-null   int64  \n",
      " 8   MultipleLines     1127 non-null   int64  \n",
      " 9   InternetService   1127 non-null   int64  \n",
      " 10  OnlineSecurity    1127 non-null   int64  \n",
      " 11  OnlineBackup      1127 non-null   int64  \n",
      " 12  DeviceProtection  1127 non-null   int64  \n",
      " 13  TechSupport       1127 non-null   int64  \n",
      " 14  StreamingTV       1127 non-null   int64  \n",
      " 15  StreamingMovies   1127 non-null   int64  \n",
      " 16  Contract          1127 non-null   int64  \n",
      " 17  PaperlessBilling  1127 non-null   int64  \n",
      " 18  PaymentMethod     1127 non-null   int64  \n",
      " 19  MonthlyCharges    1127 non-null   float64\n",
      " 20  TotalCharges      1127 non-null   float64\n",
      "dtypes: float64(2), int64(19)\n",
      "memory usage: 185.0 KB\n"
     ]
    }
   ],
   "source": [
    "from sklearn.preprocessing import LabelEncoder\n",
    "Feature = [\"Churn\", \"customerID\", \"gender\", \"Partner\",\"Dependents\", \"PhoneService\", \"MultipleLines\", \"InternetService\", \"OnlineSecurity\", \"OnlineBackup\", \"DeviceProtection\", \"TechSupport\", \"StreamingTV\", \"StreamingMovies\", \"Contract\", \"PaperlessBilling\", \"PaymentMethod\"]\n",
    "labelEncoder_X = LabelEncoder()\n",
    "for element in Feature:\n",
    "    test[element] = labelEncoder_X.fit_transform(test[element])\n",
    "    \n",
    "test.info()"
   ]
  },
  {
   "cell_type": "code",
   "execution_count": 32,
   "metadata": {},
   "outputs": [],
   "source": [
    "#profile=ProfileReport(train)\n",
    "#profile.to_notebook_iframe()"
   ]
  },
  {
   "cell_type": "markdown",
   "metadata": {},
   "source": [
    "## Mi stampo un grafico che mostra quanti come sono distribuiti i valori per Churn nel nostro dataset"
   ]
  },
  {
   "cell_type": "code",
   "execution_count": 33,
   "metadata": {},
   "outputs": [
    {
     "data": {
      "text/plain": [
       "<AxesSubplot:xlabel='Churn', ylabel='count'>"
      ]
     },
     "execution_count": 33,
     "metadata": {},
     "output_type": "execute_result"
    },
    {
     "data": {
      "image/png": "[encoded data removed]",
      "text/plain": [
       "<Figure size 432x288 with 1 Axes>"
      ]
     },
     "metadata": {
      "needs_background": "light"
     },
     "output_type": "display_data"
    }
   ],
   "source": [
    "sns.countplot(x=train['Churn'])"
   ]
  },
  {
   "cell_type": "code",
   "execution_count": 34,
   "metadata": {},
   "outputs": [
    {
     "data": {
      "text/plain": [
       "<AxesSubplot:xlabel='Churn', ylabel='count'>"
      ]
     },
     "execution_count": 34,
     "metadata": {},
     "output_type": "execute_result"
    },
    {
     "data": {
      "image/png": "[encoded data removed]",
      "text/plain": [
       "<Figure size 432x288 with 1 Axes>"
      ]
     },
     "metadata": {
      "needs_background": "light"
     },
     "output_type": "display_data"
    }
   ],
   "source": [
    "sns.countplot(x=test['Churn'])"
   ]
  },
  {
   "cell_type": "markdown",
   "metadata": {},
   "source": [
    "## Mi stampo dei grafici per capire le dipendenze e gli andamenti delle etichette per quanto riguarda le feature Contract Partner e Churn e fra le feature Tenure Contract e la Label Churn"
   ]
  },
  {
   "cell_type": "code",
   "execution_count": 35,
   "metadata": {},
   "outputs": [
    {
     "data": {
      "text/plain": [
       "<Figure size 1008x432 with 0 Axes>"
      ]
     },
     "metadata": {},
     "output_type": "display_data"
    },
    {
     "data": {
      "image/png": "[encoded data removed]",
      "text/plain": [
       "<Figure size 1490.75x720 with 2 Axes>"
      ]
     },
     "metadata": {
      "needs_background": "light"
     },
     "output_type": "display_data"
    }
   ],
   "source": [
    "plt.figure(figsize=(14,6))\n",
    "g=sns.catplot(x='Partner', hue='Contract', col='Churn', data=train, kind='count', height=10, aspect=1)"
   ]
  },
  {
   "cell_type": "markdown",
   "metadata": {},
   "source": [
    "quelli che hanno il contratto per 1 anno e sono Partner non rinnovano. \n",
    "quelli che hanno il contratto per 2 anni e sono Partner non rinnovano. \n",
    "\n"
   ]
  },
  {
   "cell_type": "code",
   "execution_count": 36,
   "metadata": {},
   "outputs": [
    {
     "data": {
      "text/plain": [
       "<Figure size 1440x720 with 0 Axes>"
      ]
     },
     "metadata": {},
     "output_type": "display_data"
    },
    {
     "data": {
      "image/png": "[encoded data removed]",
      "text/plain": [
       "<Figure size 2930.75x1440 with 2 Axes>"
      ]
     },
     "metadata": {
      "needs_background": "light"
     },
     "output_type": "display_data"
    }
   ],
   "source": [
    "plt.figure(figsize=(20,10))\n",
    "g=sns.catplot(x='tenure', hue='Contract', col='Churn', data=train, kind='count', height=20, aspect=1)"
   ]
  },
  {
   "cell_type": "markdown",
   "metadata": {},
   "source": [
    "se un cliente è rimasto per 72 e ha la tipologia di contratto ad 1 anno molto probabilmente non rinnova"
   ]
  },
  {
   "cell_type": "markdown",
   "metadata": {},
   "source": [
    "# Vedo se qualche feature è superflua"
   ]
  },
  {
   "cell_type": "code",
   "execution_count": 37,
   "metadata": {},
   "outputs": [
    {
     "data": {
      "image/png": "[encoded data removed]",
      "text/plain": [
       "<Figure size 432x288 with 1 Axes>"
      ]
     },
     "metadata": {
      "needs_background": "light"
     },
     "output_type": "display_data"
    }
   ],
   "source": [
    "sns.countplot(x=train[\"gender\"],hue=train[\"Churn\"]);"
   ]
  },
  {
   "cell_type": "code",
   "execution_count": 38,
   "metadata": {},
   "outputs": [
    {
     "data": {
      "image/png": "[encoded data removed]",
      "text/plain": [
       "<Figure size 432x288 with 1 Axes>"
      ]
     },
     "metadata": {
      "needs_background": "light"
     },
     "output_type": "display_data"
    }
   ],
   "source": [
    "sns.countplot(x=train[\"SeniorCitizen\"],hue=train[\"Churn\"]);"
   ]
  },
  {
   "cell_type": "code",
   "execution_count": 39,
   "metadata": {},
   "outputs": [
    {
     "data": {
      "image/png": "[encoded data removed]",
      "text/plain": [
       "<Figure size 432x288 with 1 Axes>"
      ]
     },
     "metadata": {
      "needs_background": "light"
     },
     "output_type": "display_data"
    }
   ],
   "source": [
    "sns.countplot(x=train[\"Partner\"],hue=train[\"Churn\"]);"
   ]
  },
  {
   "cell_type": "code",
   "execution_count": 40,
   "metadata": {},
   "outputs": [
    {
     "data": {
      "image/png": "[encoded data removed]",
      "text/plain": [
       "<Figure size 432x288 with 1 Axes>"
      ]
     },
     "metadata": {
      "needs_background": "light"
     },
     "output_type": "display_data"
    }
   ],
   "source": [
    "sns.countplot(x=train[\"Dependents\"],hue=train[\"Churn\"]);"
   ]
  },
  {
   "cell_type": "code",
   "execution_count": 41,
   "metadata": {},
   "outputs": [
    {
     "data": {
      "image/png": "[encoded data removed]",
      "text/plain": [
       "<Figure size 432x288 with 1 Axes>"
      ]
     },
     "metadata": {
      "needs_background": "light"
     },
     "output_type": "display_data"
    }
   ],
   "source": [
    "sns.countplot(x=train[\"PhoneService\"],hue=train[\"Churn\"]);"
   ]
  },
  {
   "cell_type": "code",
   "execution_count": 42,
   "metadata": {},
   "outputs": [
    {
     "data": {
      "image/png": "[encoded data removed]",
      "text/plain": [
       "<Figure size 432x288 with 1 Axes>"
      ]
     },
     "metadata": {
      "needs_background": "light"
     },
     "output_type": "display_data"
    }
   ],
   "source": [
    "sns.countplot(x=train[\"PaperlessBilling\"],hue=train[\"Churn\"]);"
   ]
  },
  {
   "cell_type": "code",
   "execution_count": 43,
   "metadata": {},
   "outputs": [
    {
     "data": {
      "image/png": "[encoded data removed]",
      "text/plain": [
       "<Figure size 432x288 with 1 Axes>"
      ]
     },
     "metadata": {
      "needs_background": "light"
     },
     "output_type": "display_data"
    }
   ],
   "source": [
    "sns.countplot(x=train[\"MultipleLines\"],hue=train[\"Churn\"]);"
   ]
  },
  {
   "cell_type": "code",
   "execution_count": 44,
   "metadata": {},
   "outputs": [
    {
     "data": {
      "image/png": "[encoded data removed]",
      "text/plain": [
       "<Figure size 432x288 with 1 Axes>"
      ]
     },
     "metadata": {
      "needs_background": "light"
     },
     "output_type": "display_data"
    }
   ],
   "source": [
    "sns.countplot(x=train[\"InternetService\"],hue=train[\"Churn\"]);"
   ]
  },
  {
   "cell_type": "code",
   "execution_count": 45,
   "metadata": {},
   "outputs": [
    {
     "data": {
      "image/png": "[encoded data removed]",
      "text/plain": [
       "<Figure size 432x288 with 1 Axes>"
      ]
     },
     "metadata": {
      "needs_background": "light"
     },
     "output_type": "display_data"
    }
   ],
   "source": [
    "sns.countplot(x=train[\"StreamingTV\"],hue=train[\"Churn\"]);"
   ]
  },
  {
   "cell_type": "code",
   "execution_count": 46,
   "metadata": {},
   "outputs": [
    {
     "data": {
      "image/png": "[encoded data removed]",
      "text/plain": [
       "<Figure size 432x288 with 1 Axes>"
      ]
     },
     "metadata": {
      "needs_background": "light"
     },
     "output_type": "display_data"
    }
   ],
   "source": [
    "sns.countplot(x=train[\"StreamingMovies\"],hue=train[\"Churn\"]);"
   ]
  },
  {
   "cell_type": "markdown",
   "metadata": {},
   "source": [
    "# Mi stampo una heatmap che mi guarda quale sia la correlazione che ho fra le feature:\n",
    "- valore negativo -> relazione di proporzionalità inversa\n",
    "- valore positivo -> relazione di proporzionalità diretta\n",
    "- valore pari a zero-> no correlazione (feture può essere eliminata"
   ]
  },
  {
   "cell_type": "code",
   "execution_count": 47,
   "metadata": {},
   "outputs": [
    {
     "data": {
      "text/plain": [
       "<AxesSubplot:>"
      ]
     },
     "execution_count": 47,
     "metadata": {},
     "output_type": "execute_result"
    },
    {
     "data": {
      "image/png": "[encoded data removed]",
      "text/plain": [
       "<Figure size 1296x720 with 2 Axes>"
      ]
     },
     "metadata": {
      "needs_background": "light"
     },
     "output_type": "display_data"
    }
   ],
   "source": [
    "plt.figure(figsize=(18,10))\n",
    "correlation = train.corr()\n",
    "sns.heatmap(correlation, annot = True, linewidth = 2)"
   ]
  },
  {
   "cell_type": "markdown",
   "metadata": {},
   "source": [
    "dalla heatmap vediamo che customerID, gender, PhoneService MultipleLines, InternetService, StreamingTv, StreamingMovie non sono utili per il nostro scopo.\n",
    "quindi si possono droppare\n"
   ]
  },
  {
   "cell_type": "code",
   "execution_count": 48,
   "metadata": {},
   "outputs": [],
   "source": [
    "toDrop = ['customerID','gender','PhoneService','MultipleLines','InternetService', 'StreamingTV','StreamingMovies']\n",
    "train = train.drop(toDrop, axis=1)"
   ]
  },
  {
   "cell_type": "code",
   "execution_count": 49,
   "metadata": {},
   "outputs": [],
   "source": [
    "\n",
    "toDrop = ['customerID','gender','PhoneService','MultipleLines','InternetService', 'StreamingTV','StreamingMovies']\n",
    "test = test.drop(toDrop, axis=1)"
   ]
  },
  {
   "cell_type": "markdown",
   "metadata": {},
   "source": [
    "vediamo inoltre nella heatmap che TotalCharges è molto correlato con Tenure in maniera direttamente proporzionale in quanto hanno una correlazione quasi pari a 1. quindi posso eliminare TotalCharges perchè ha una correlazione con Churn inferiore a quella che ha Tenure con Churn"
   ]
  },
  {
   "cell_type": "code",
   "execution_count": 50,
   "metadata": {},
   "outputs": [],
   "source": [
    "toDrop = ['TotalCharges']\n",
    "test = test.drop(toDrop, axis=1)"
   ]
  },
  {
   "cell_type": "code",
   "execution_count": 51,
   "metadata": {},
   "outputs": [],
   "source": [
    "toDrop = ['TotalCharges']\n",
    "train = train.drop(toDrop, axis=1)"
   ]
  },
  {
   "cell_type": "markdown",
   "metadata": {},
   "source": [
    "# separo la label dalle features"
   ]
  },
  {
   "cell_type": "code",
   "execution_count": 52,
   "metadata": {},
   "outputs": [],
   "source": [
    "y_train= train['Churn']\n",
    "X_train=train.drop(['Churn'], axis=1)\n",
    "\n",
    "\n",
    "y_test= test['Churn']\n",
    "X_test=test.drop(['Churn'], axis=1)"
   ]
  },
  {
   "cell_type": "markdown",
   "metadata": {},
   "source": [
    "# Utilizzo random forest\n",
    "L’algoritmo come si può dedurre dal nome, è costituito da un insieme di alberi decisionali.\n",
    "La classificazione delle istanze dei dati si ha muovendosi seguendo gli archi dalla radice (nodo iniziale dell’albero) ad una foglia dell’albero. \n",
    "Quest’ultima rappresenta il risultato predetto a partire dai valori dei vari attributi e quindi la classificazione del dato in input.\n",
    "La caratteristica principale degli alberi decisionali è la loro abilità nello scegliere le features più importanti per poter dividere il set di dati in modo tale che i gruppi risultanti siano più diversi possibili fra di loro e quindi i membri del sottogruppo siano più simili possibili fra loro. \n",
    "Ciascuna regola di predizione è rappresentata dal cammino che va dal nodo radice al nodo foglia.\n",
    "Per quanto riguarda la classificazione ogni singolo albero nella foresta genera una previsione di classe e la classe con maggior numero di voti diventa quindi la previsione del modello. \n",
    "Il vantaggio di avere più alberi decisionali risiede nel fatto che un gran numero di alberi non correlati protegge l’errore effettuato dai singoli alberi, in quanto mentre alcuni alberi potranno avere un output errato molti altri lo avranno corretto, quindi come gruppo gli alberi si muoveranno verso la corretta direzione.\n",
    "In sostanza la maggioranza vince"
   ]
  },
  {
   "cell_type": "code",
   "execution_count": 53,
   "metadata": {},
   "outputs": [],
   "source": [
    "from sklearn.ensemble import RandomForestClassifier\n",
    "\n",
    "from sklearn.metrics import plot_confusion_matrix, classification_report\n",
    "\n",
    "from sklearn.metrics import accuracy_score"
   ]
  },
  {
   "cell_type": "code",
   "execution_count": 56,
   "metadata": {},
   "outputs": [
    {
     "ename": "IndentationError",
     "evalue": "unexpected indent (<ipython-input-56-1a4e03f5587b>, line 9)",
     "output_type": "error",
     "traceback": [
      "\u001b[0;36m  File \u001b[0;32m\"<ipython-input-56-1a4e03f5587b>\"\u001b[0;36m, line \u001b[0;32m9\u001b[0m\n\u001b[0;31m    print(\"\\n\")\u001b[0m\n\u001b[0m    ^\u001b[0m\n\u001b[0;31mIndentationError\u001b[0m\u001b[0;31m:\u001b[0m unexpected indent\n"
     ]
    }
   ],
   "source": [
    "randomforest = RandomForestClassifier()\n",
    "randomforest.fit(X_train, y_train)\n",
    "y_pred = randomforest.predict(X_test)\n",
    "acc_randomforest = round(accuracy_score(y_pred, y_test) * 100, 2)\n",
    "print(acc_randomforest)\n",
    "\n",
    "plot_confusion_matrix(model, X_test, y_test, values_format='n', display_labels=['No','Yes']) \n",
    "plt.show() #sx predizioni giuste, dx predizioni sbagliate\n",
    "    print(\"\\n\")"
   ]
  },
  {
   "cell_type": "code",
   "execution_count": null,
   "metadata": {},
   "outputs": [],
   "source": [
    "models = pd.DataFrame({\n",
    "\n",
    "    'Model': [ 'Random Forest'],\n",
    "\n",
    "    'Score': score})\n",
    "    \n",
    "models.sort_values(by='Score', ascending=False)"
   ]
  },
  {
   "cell_type": "code",
   "execution_count": null,
   "metadata": {},
   "outputs": [],
   "source": [
    "print(classification_report(y_test,y_pred))"
   ]
  },
  {
   "cell_type": "code",
   "execution_count": null,
   "metadata": {},
   "outputs": [],
   "source": []
  }
 ],
 "metadata": {
  "kernelspec": {
   "display_name": "Python 3",
   "language": "python",
   "name": "python3"
  },
  "language_info": {
   "codemirror_mode": {
    "name": "ipython",
    "version": 3
   },
   "file_extension": ".py",
   "mimetype": "text/x-python",
   "name": "python",
   "nbconvert_exporter": "python",
   "pygments_lexer": "ipython3",
   "version": "3.8.5"
  }
 },
 "nbformat": 4,
 "nbformat_minor": 4
}
