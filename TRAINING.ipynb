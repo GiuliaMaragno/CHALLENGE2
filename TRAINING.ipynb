{
 "cells": [
  {
   "cell_type": "code",
   "execution_count": 1,
   "metadata": {},
   "outputs": [],
   "source": [
    "#!pip install -r requirements.txt"
   ]
  },
  {
   "cell_type": "code",
   "execution_count": 2,
   "metadata": {},
   "outputs": [],
   "source": [
    "import numpy as np\n",
    "import pandas as pd\n",
    "from sklearn.model_selection import train_test_split\n",
    "import matplotlib.pyplot as plt\n",
    "import seaborn as sns"
   ]
  },
  {
   "cell_type": "code",
   "execution_count": 3,
   "metadata": {},
   "outputs": [],
   "source": [
    "train=pd.read_csv('train.csv')"
   ]
  },
  {
   "cell_type": "code",
   "execution_count": 4,
   "metadata": {},
   "outputs": [],
   "source": [
    "test=pd.read_csv('test.csv')"
   ]
  },
  {
   "cell_type": "markdown",
   "metadata": {},
   "source": [
    "Guardo le dimensioni dei due file"
   ]
  },
  {
   "cell_type": "code",
   "execution_count": 5,
   "metadata": {},
   "outputs": [
    {
     "data": {
      "text/plain": [
       "(4507, 21)"
      ]
     },
     "execution_count": 5,
     "metadata": {},
     "output_type": "execute_result"
    }
   ],
   "source": [
    "train.shape"
   ]
  },
  {
   "cell_type": "code",
   "execution_count": 6,
   "metadata": {},
   "outputs": [
    {
     "data": {
      "text/plain": [
       "(1127, 21)"
      ]
     },
     "execution_count": 6,
     "metadata": {},
     "output_type": "execute_result"
    }
   ],
   "source": [
    "test.shape"
   ]
  },
  {
   "cell_type": "markdown",
   "metadata": {},
   "source": [
    "# MI STAMPO LE FEATURE CHE COMPAIONO NEL TRAIN E NEL TEST"
   ]
  },
  {
   "cell_type": "code",
   "execution_count": 7,
   "metadata": {},
   "outputs": [
    {
     "data": {
      "text/plain": [
       "['Churn',\n",
       " 'customerID',\n",
       " 'gender',\n",
       " 'SeniorCitizen',\n",
       " 'Partner',\n",
       " 'Dependents',\n",
       " 'tenure',\n",
       " 'PhoneService',\n",
       " 'MultipleLines',\n",
       " 'InternetService',\n",
       " 'OnlineSecurity',\n",
       " 'OnlineBackup',\n",
       " 'DeviceProtection',\n",
       " 'TechSupport',\n",
       " 'StreamingTV',\n",
       " 'StreamingMovies',\n",
       " 'Contract',\n",
       " 'PaperlessBilling',\n",
       " 'PaymentMethod',\n",
       " 'MonthlyCharges',\n",
       " 'TotalCharges']"
      ]
     },
     "execution_count": 7,
     "metadata": {},
     "output_type": "execute_result"
    }
   ],
   "source": [
    "list(train)"
   ]
  },
  {
   "cell_type": "code",
   "execution_count": 8,
   "metadata": {},
   "outputs": [
    {
     "data": {
      "text/plain": [
       "['Churn',\n",
       " 'customerID',\n",
       " 'gender',\n",
       " 'SeniorCitizen',\n",
       " 'Partner',\n",
       " 'Dependents',\n",
       " 'tenure',\n",
       " 'PhoneService',\n",
       " 'MultipleLines',\n",
       " 'InternetService',\n",
       " 'OnlineSecurity',\n",
       " 'OnlineBackup',\n",
       " 'DeviceProtection',\n",
       " 'TechSupport',\n",
       " 'StreamingTV',\n",
       " 'StreamingMovies',\n",
       " 'Contract',\n",
       " 'PaperlessBilling',\n",
       " 'PaymentMethod',\n",
       " 'MonthlyCharges',\n",
       " 'TotalCharges']"
      ]
     },
     "execution_count": 8,
     "metadata": {},
     "output_type": "execute_result"
    }
   ],
   "source": [
    "list(test)"
   ]
  },
  {
   "cell_type": "markdown",
   "metadata": {},
   "source": [
    "# MI STAMPO LA QUANTITA' DEI VALORI CHE ASSUMONO LE VARIE FEATURE "
   ]
  },
  {
   "cell_type": "code",
   "execution_count": 9,
   "metadata": {},
   "outputs": [
    {
     "name": "stdout",
     "output_type": "stream",
     "text": [
      "Features:  Churn\n",
      "No     3309\n",
      "Yes    1198\n",
      "Name: Churn, dtype: int64\n",
      "\n",
      "*****************\n",
      "\n",
      "Features:  customerID\n",
      "6504-VBLFL    1\n",
      "6497-TILVL    1\n",
      "8080-POTJR    1\n",
      "4680-KUTAJ    1\n",
      "3158-MOERK    1\n",
      "             ..\n",
      "3452-SRFEG    1\n",
      "7389-KBFIT    1\n",
      "4277-BWBML    1\n",
      "3744-ZRRDZ    1\n",
      "8865-TNMNX    1\n",
      "Name: customerID, Length: 4507, dtype: int64\n",
      "\n",
      "*****************\n",
      "\n",
      "Features:  gender\n",
      "Male      2309\n",
      "Female    2198\n",
      "Name: gender, dtype: int64\n",
      "\n",
      "*****************\n",
      "\n",
      "Features:  SeniorCitizen\n",
      "0    3788\n",
      "1     719\n",
      "Name: SeniorCitizen, dtype: int64\n",
      "\n",
      "*****************\n",
      "\n",
      "Features:  Partner\n",
      "No     2328\n",
      "Yes    2179\n",
      "Name: Partner, dtype: int64\n",
      "\n",
      "*****************\n",
      "\n",
      "Features:  Dependents\n",
      "No     3148\n",
      "Yes    1359\n",
      "Name: Dependents, dtype: int64\n",
      "\n",
      "*****************\n",
      "\n",
      "Features:  tenure\n",
      "1     403\n",
      "72    236\n",
      "2     131\n",
      "3     131\n",
      "4     113\n",
      "     ... \n",
      "59     36\n",
      "28     35\n",
      "38     35\n",
      "49     30\n",
      "0       8\n",
      "Name: tenure, Length: 73, dtype: int64\n",
      "\n",
      "*****************\n",
      "\n",
      "Features:  PhoneService\n",
      "Yes    4063\n",
      "No      444\n",
      "Name: PhoneService, dtype: int64\n",
      "\n",
      "*****************\n",
      "\n",
      "Features:  MultipleLines\n",
      "No                  2152\n",
      "Yes                 1911\n",
      "No phone service     444\n",
      "Name: MultipleLines, dtype: int64\n",
      "\n",
      "*****************\n",
      "\n",
      "Features:  InternetService\n",
      "Fiber optic    1997\n",
      "DSL            1539\n",
      "No              971\n",
      "Name: InternetService, dtype: int64\n",
      "\n",
      "*****************\n",
      "\n",
      "Features:  OnlineSecurity\n",
      "No                     2247\n",
      "Yes                    1289\n",
      "No internet service     971\n",
      "Name: OnlineSecurity, dtype: int64\n",
      "\n",
      "*****************\n",
      "\n",
      "Features:  OnlineBackup\n",
      "No                     1962\n",
      "Yes                    1574\n",
      "No internet service     971\n",
      "Name: OnlineBackup, dtype: int64\n",
      "\n",
      "*****************\n",
      "\n",
      "Features:  DeviceProtection\n",
      "No                     1981\n",
      "Yes                    1555\n",
      "No internet service     971\n",
      "Name: DeviceProtection, dtype: int64\n",
      "\n",
      "*****************\n",
      "\n",
      "Features:  TechSupport\n",
      "No                     2252\n",
      "Yes                    1284\n",
      "No internet service     971\n",
      "Name: TechSupport, dtype: int64\n",
      "\n",
      "*****************\n",
      "\n",
      "Features:  StreamingTV\n",
      "No                     1788\n",
      "Yes                    1748\n",
      "No internet service     971\n",
      "Name: StreamingTV, dtype: int64\n",
      "\n",
      "*****************\n",
      "\n",
      "Features:  StreamingMovies\n",
      "No                     1781\n",
      "Yes                    1755\n",
      "No internet service     971\n",
      "Name: StreamingMovies, dtype: int64\n",
      "\n",
      "*****************\n",
      "\n",
      "Features:  Contract\n",
      "Month-to-month    2483\n",
      "Two year          1086\n",
      "One year           938\n",
      "Name: Contract, dtype: int64\n",
      "\n",
      "*****************\n",
      "\n",
      "Features:  PaperlessBilling\n",
      "Yes    2665\n",
      "No     1842\n",
      "Name: PaperlessBilling, dtype: int64\n",
      "\n",
      "*****************\n",
      "\n",
      "Features:  PaymentMethod\n",
      "Electronic check             1528\n",
      "Mailed check                 1008\n",
      "Credit card (automatic)       994\n",
      "Bank transfer (automatic)     977\n",
      "Name: PaymentMethod, dtype: int64\n",
      "\n",
      "*****************\n",
      "\n",
      "Features:  MonthlyCharges\n",
      "20.05    37\n",
      "19.95    32\n",
      "19.85    30\n",
      "19.75    27\n",
      "19.65    27\n",
      "         ..\n",
      "26.05     1\n",
      "62.70     1\n",
      "92.05     1\n",
      "29.50     1\n",
      "87.25     1\n",
      "Name: MonthlyCharges, Length: 1387, dtype: int64\n",
      "\n",
      "*****************\n",
      "\n",
      "Features:  TotalCharges\n",
      "20.2      10\n",
      "           8\n",
      "19.75      7\n",
      "20.05      6\n",
      "20.3       5\n",
      "          ..\n",
      "225.85     1\n",
      "829.1      1\n",
      "239        1\n",
      "198.5      1\n",
      "208.7      1\n",
      "Name: TotalCharges, Length: 4261, dtype: int64\n",
      "\n",
      "*****************\n",
      "\n"
     ]
    }
   ],
   "source": [
    "for c in train.columns:\n",
    "    print (\"Features: \", c)\n",
    "    print(train[c].value_counts())\n",
    "    print(\"\\n*****************\\n\")"
   ]
  },
  {
   "cell_type": "markdown",
   "metadata": {},
   "source": [
    "Rapido sguardo al dataset"
   ]
  },
  {
   "cell_type": "code",
   "execution_count": 10,
   "metadata": {},
   "outputs": [
    {
     "data": {
      "text/html": [
       "<div>\n",
       "<style scoped>\n",
       "    .dataframe tbody tr th:only-of-type {\n",
       "        vertical-align: middle;\n",
       "    }\n",
       "\n",
       "    .dataframe tbody tr th {\n",
       "        vertical-align: top;\n",
       "    }\n",
       "\n",
       "    .dataframe thead th {\n",
       "        text-align: right;\n",
       "    }\n",
       "</style>\n",
       "<table border=\"1\" class=\"dataframe\">\n",
       "  <thead>\n",
       "    <tr style=\"text-align: right;\">\n",
       "      <th></th>\n",
       "      <th>Churn</th>\n",
       "      <th>customerID</th>\n",
       "      <th>gender</th>\n",
       "      <th>SeniorCitizen</th>\n",
       "      <th>Partner</th>\n",
       "      <th>Dependents</th>\n",
       "      <th>tenure</th>\n",
       "      <th>PhoneService</th>\n",
       "      <th>MultipleLines</th>\n",
       "      <th>InternetService</th>\n",
       "      <th>...</th>\n",
       "      <th>OnlineBackup</th>\n",
       "      <th>DeviceProtection</th>\n",
       "      <th>TechSupport</th>\n",
       "      <th>StreamingTV</th>\n",
       "      <th>StreamingMovies</th>\n",
       "      <th>Contract</th>\n",
       "      <th>PaperlessBilling</th>\n",
       "      <th>PaymentMethod</th>\n",
       "      <th>MonthlyCharges</th>\n",
       "      <th>TotalCharges</th>\n",
       "    </tr>\n",
       "  </thead>\n",
       "  <tbody>\n",
       "    <tr>\n",
       "      <th>0</th>\n",
       "      <td>Yes</td>\n",
       "      <td>3393-FMZPV</td>\n",
       "      <td>Female</td>\n",
       "      <td>0</td>\n",
       "      <td>No</td>\n",
       "      <td>No</td>\n",
       "      <td>25</td>\n",
       "      <td>Yes</td>\n",
       "      <td>Yes</td>\n",
       "      <td>Fiber optic</td>\n",
       "      <td>...</td>\n",
       "      <td>Yes</td>\n",
       "      <td>No</td>\n",
       "      <td>No</td>\n",
       "      <td>Yes</td>\n",
       "      <td>Yes</td>\n",
       "      <td>Month-to-month</td>\n",
       "      <td>Yes</td>\n",
       "      <td>Electronic check</td>\n",
       "      <td>100.25</td>\n",
       "      <td>2387.75</td>\n",
       "    </tr>\n",
       "    <tr>\n",
       "      <th>1</th>\n",
       "      <td>No</td>\n",
       "      <td>2669-QVCRG</td>\n",
       "      <td>Female</td>\n",
       "      <td>0</td>\n",
       "      <td>No</td>\n",
       "      <td>No</td>\n",
       "      <td>41</td>\n",
       "      <td>Yes</td>\n",
       "      <td>Yes</td>\n",
       "      <td>Fiber optic</td>\n",
       "      <td>...</td>\n",
       "      <td>No</td>\n",
       "      <td>No</td>\n",
       "      <td>No</td>\n",
       "      <td>No</td>\n",
       "      <td>No</td>\n",
       "      <td>Month-to-month</td>\n",
       "      <td>Yes</td>\n",
       "      <td>Credit card (automatic)</td>\n",
       "      <td>81.30</td>\n",
       "      <td>3190.65</td>\n",
       "    </tr>\n",
       "    <tr>\n",
       "      <th>2</th>\n",
       "      <td>No</td>\n",
       "      <td>4367-NUYAO</td>\n",
       "      <td>Male</td>\n",
       "      <td>0</td>\n",
       "      <td>Yes</td>\n",
       "      <td>Yes</td>\n",
       "      <td>0</td>\n",
       "      <td>Yes</td>\n",
       "      <td>Yes</td>\n",
       "      <td>No</td>\n",
       "      <td>...</td>\n",
       "      <td>No internet service</td>\n",
       "      <td>No internet service</td>\n",
       "      <td>No internet service</td>\n",
       "      <td>No internet service</td>\n",
       "      <td>No internet service</td>\n",
       "      <td>Two year</td>\n",
       "      <td>No</td>\n",
       "      <td>Mailed check</td>\n",
       "      <td>25.75</td>\n",
       "      <td></td>\n",
       "    </tr>\n",
       "    <tr>\n",
       "      <th>3</th>\n",
       "      <td>No</td>\n",
       "      <td>5799-JRCZO</td>\n",
       "      <td>Female</td>\n",
       "      <td>0</td>\n",
       "      <td>No</td>\n",
       "      <td>Yes</td>\n",
       "      <td>63</td>\n",
       "      <td>Yes</td>\n",
       "      <td>No</td>\n",
       "      <td>No</td>\n",
       "      <td>...</td>\n",
       "      <td>No internet service</td>\n",
       "      <td>No internet service</td>\n",
       "      <td>No internet service</td>\n",
       "      <td>No internet service</td>\n",
       "      <td>No internet service</td>\n",
       "      <td>Two year</td>\n",
       "      <td>No</td>\n",
       "      <td>Credit card (automatic)</td>\n",
       "      <td>19.50</td>\n",
       "      <td>1215.1</td>\n",
       "    </tr>\n",
       "    <tr>\n",
       "      <th>4</th>\n",
       "      <td>Yes</td>\n",
       "      <td>2612-RRIDN</td>\n",
       "      <td>Male</td>\n",
       "      <td>0</td>\n",
       "      <td>No</td>\n",
       "      <td>No</td>\n",
       "      <td>4</td>\n",
       "      <td>Yes</td>\n",
       "      <td>No</td>\n",
       "      <td>Fiber optic</td>\n",
       "      <td>...</td>\n",
       "      <td>No</td>\n",
       "      <td>No</td>\n",
       "      <td>No</td>\n",
       "      <td>Yes</td>\n",
       "      <td>No</td>\n",
       "      <td>Month-to-month</td>\n",
       "      <td>Yes</td>\n",
       "      <td>Electronic check</td>\n",
       "      <td>81.00</td>\n",
       "      <td>340.85</td>\n",
       "    </tr>\n",
       "  </tbody>\n",
       "</table>\n",
       "<p>5 rows × 21 columns</p>\n",
       "</div>"
      ],
      "text/plain": [
       "  Churn  customerID  gender  SeniorCitizen Partner Dependents  tenure  \\\n",
       "0   Yes  3393-FMZPV  Female              0      No         No      25   \n",
       "1    No  2669-QVCRG  Female              0      No         No      41   \n",
       "2    No  4367-NUYAO    Male              0     Yes        Yes       0   \n",
       "3    No  5799-JRCZO  Female              0      No        Yes      63   \n",
       "4   Yes  2612-RRIDN    Male              0      No         No       4   \n",
       "\n",
       "  PhoneService MultipleLines InternetService  ...         OnlineBackup  \\\n",
       "0          Yes           Yes     Fiber optic  ...                  Yes   \n",
       "1          Yes           Yes     Fiber optic  ...                   No   \n",
       "2          Yes           Yes              No  ...  No internet service   \n",
       "3          Yes            No              No  ...  No internet service   \n",
       "4          Yes            No     Fiber optic  ...                   No   \n",
       "\n",
       "      DeviceProtection          TechSupport          StreamingTV  \\\n",
       "0                   No                   No                  Yes   \n",
       "1                   No                   No                   No   \n",
       "2  No internet service  No internet service  No internet service   \n",
       "3  No internet service  No internet service  No internet service   \n",
       "4                   No                   No                  Yes   \n",
       "\n",
       "       StreamingMovies        Contract PaperlessBilling  \\\n",
       "0                  Yes  Month-to-month              Yes   \n",
       "1                   No  Month-to-month              Yes   \n",
       "2  No internet service        Two year               No   \n",
       "3  No internet service        Two year               No   \n",
       "4                   No  Month-to-month              Yes   \n",
       "\n",
       "             PaymentMethod MonthlyCharges  TotalCharges  \n",
       "0         Electronic check         100.25       2387.75  \n",
       "1  Credit card (automatic)          81.30       3190.65  \n",
       "2             Mailed check          25.75                \n",
       "3  Credit card (automatic)          19.50        1215.1  \n",
       "4         Electronic check          81.00        340.85  \n",
       "\n",
       "[5 rows x 21 columns]"
      ]
     },
     "execution_count": 10,
     "metadata": {},
     "output_type": "execute_result"
    }
   ],
   "source": [
    "train.head()"
   ]
  },
  {
   "cell_type": "code",
   "execution_count": 11,
   "metadata": {},
   "outputs": [
    {
     "name": "stdout",
     "output_type": "stream",
     "text": [
      "Features:  Churn\n",
      "No     829\n",
      "Yes    298\n",
      "Name: Churn, dtype: int64\n",
      "\n",
      "*****************\n",
      "\n",
      "Features:  customerID\n",
      "7129-ACFOG    1\n",
      "4198-VFOEA    1\n",
      "0691-IFBQW    1\n",
      "1444-VVSGW    1\n",
      "8590-OHDIW    1\n",
      "             ..\n",
      "5266-PFRQK    1\n",
      "2985-JUUBZ    1\n",
      "4770-UEZOX    1\n",
      "3512-IZIKN    1\n",
      "7547-EKNFS    1\n",
      "Name: customerID, Length: 1127, dtype: int64\n",
      "\n",
      "*****************\n",
      "\n",
      "Features:  gender\n",
      "Male      578\n",
      "Female    549\n",
      "Name: gender, dtype: int64\n",
      "\n",
      "*****************\n",
      "\n",
      "Features:  SeniorCitizen\n",
      "0    940\n",
      "1    187\n",
      "Name: SeniorCitizen, dtype: int64\n",
      "\n",
      "*****************\n",
      "\n",
      "Features:  Partner\n",
      "No     576\n",
      "Yes    551\n",
      "Name: Partner, dtype: int64\n",
      "\n",
      "*****************\n",
      "\n",
      "Features:  Dependents\n",
      "No     803\n",
      "Yes    324\n",
      "Name: Dependents, dtype: int64\n",
      "\n",
      "*****************\n",
      "\n",
      "Features:  tenure\n",
      "1     73\n",
      "72    50\n",
      "2     43\n",
      "4     34\n",
      "3     30\n",
      "      ..\n",
      "36     6\n",
      "20     6\n",
      "37     6\n",
      "55     5\n",
      "0      2\n",
      "Name: tenure, Length: 73, dtype: int64\n",
      "\n",
      "*****************\n",
      "\n",
      "Features:  PhoneService\n",
      "Yes    1019\n",
      "No      108\n",
      "Name: PhoneService, dtype: int64\n",
      "\n",
      "*****************\n",
      "\n",
      "Features:  MultipleLines\n",
      "No                  533\n",
      "Yes                 486\n",
      "No phone service    108\n",
      "Name: MultipleLines, dtype: int64\n",
      "\n",
      "*****************\n",
      "\n",
      "Features:  InternetService\n",
      "Fiber optic    484\n",
      "DSL            400\n",
      "No             243\n",
      "Name: InternetService, dtype: int64\n",
      "\n",
      "*****************\n",
      "\n",
      "Features:  OnlineSecurity\n",
      "No                     563\n",
      "Yes                    321\n",
      "No internet service    243\n",
      "Name: OnlineSecurity, dtype: int64\n",
      "\n",
      "*****************\n",
      "\n",
      "Features:  OnlineBackup\n",
      "No                     486\n",
      "Yes                    398\n",
      "No internet service    243\n",
      "Name: OnlineBackup, dtype: int64\n",
      "\n",
      "*****************\n",
      "\n",
      "Features:  DeviceProtection\n",
      "No                     508\n",
      "Yes                    376\n",
      "No internet service    243\n",
      "Name: DeviceProtection, dtype: int64\n",
      "\n",
      "*****************\n",
      "\n",
      "Features:  TechSupport\n",
      "No                     539\n",
      "Yes                    345\n",
      "No internet service    243\n",
      "Name: TechSupport, dtype: int64\n",
      "\n",
      "*****************\n",
      "\n",
      "Features:  StreamingTV\n",
      "No                     451\n",
      "Yes                    433\n",
      "No internet service    243\n",
      "Name: StreamingTV, dtype: int64\n",
      "\n",
      "*****************\n",
      "\n",
      "Features:  StreamingMovies\n",
      "No                     442\n",
      "Yes                    442\n",
      "No internet service    243\n",
      "Name: StreamingMovies, dtype: int64\n",
      "\n",
      "*****************\n",
      "\n",
      "Features:  Contract\n",
      "Month-to-month    600\n",
      "One year          274\n",
      "Two year          253\n",
      "Name: Contract, dtype: int64\n",
      "\n",
      "*****************\n",
      "\n",
      "Features:  PaperlessBilling\n",
      "Yes    660\n",
      "No     467\n",
      "Name: PaperlessBilling, dtype: int64\n",
      "\n",
      "*****************\n",
      "\n",
      "Features:  PaymentMethod\n",
      "Electronic check             359\n",
      "Mailed check                 274\n",
      "Bank transfer (automatic)    261\n",
      "Credit card (automatic)      233\n",
      "Name: PaymentMethod, dtype: int64\n",
      "\n",
      "*****************\n",
      "\n",
      "Features:  MonthlyCharges\n",
      "20.05     12\n",
      "19.60      9\n",
      "20.15      9\n",
      "20.10      9\n",
      "20.35      8\n",
      "          ..\n",
      "85.90      1\n",
      "24.70      1\n",
      "98.70      1\n",
      "113.30     1\n",
      "105.85     1\n",
      "Name: MonthlyCharges, Length: 691, dtype: int64\n",
      "\n",
      "*****************\n",
      "\n",
      "Features:  TotalCharges\n",
      "45.8       2\n",
      "2317.1     2\n",
      "4370.25    2\n",
      "19.9       2\n",
      "55.25      2\n",
      "          ..\n",
      "860.85     1\n",
      "1424.9     1\n",
      "1004.75    1\n",
      "463.05     1\n",
      "308.1      1\n",
      "Name: TotalCharges, Length: 1110, dtype: int64\n",
      "\n",
      "*****************\n",
      "\n"
     ]
    }
   ],
   "source": [
    "for c in test.columns:\n",
    "    print (\"Features: \", c)\n",
    "    print(test[c].value_counts())\n",
    "    print(\"\\n*****************\\n\")"
   ]
  },
  {
   "cell_type": "markdown",
   "metadata": {},
   "source": [
    "# ci sono dei valori mancanti nel train e nel test"
   ]
  },
  {
   "cell_type": "code",
   "execution_count": 12,
   "metadata": {},
   "outputs": [
    {
     "name": "stdout",
     "output_type": "stream",
     "text": [
      "Valori mancanti: 8\n"
     ]
    }
   ],
   "source": [
    "print(\"Valori mancanti:\", (train[\"TotalCharges\"]==\" \").sum())"
   ]
  },
  {
   "cell_type": "code",
   "execution_count": 13,
   "metadata": {},
   "outputs": [
    {
     "name": "stdout",
     "output_type": "stream",
     "text": [
      "Valori mancanti: 2\n"
     ]
    }
   ],
   "source": [
    "print(\"Valori mancanti:\", (test[\"TotalCharges\"]==\" \").sum())"
   ]
  },
  {
   "cell_type": "markdown",
   "metadata": {},
   "source": [
    "# osservo il tipo dei dati"
   ]
  },
  {
   "cell_type": "code",
   "execution_count": 14,
   "metadata": {},
   "outputs": [
    {
     "name": "stdout",
     "output_type": "stream",
     "text": [
      "<class 'pandas.core.frame.DataFrame'>\n",
      "RangeIndex: 4507 entries, 0 to 4506\n",
      "Data columns (total 21 columns):\n",
      " #   Column            Non-Null Count  Dtype  \n",
      "---  ------            --------------  -----  \n",
      " 0   Churn             4507 non-null   object \n",
      " 1   customerID        4507 non-null   object \n",
      " 2   gender            4507 non-null   object \n",
      " 3   SeniorCitizen     4507 non-null   int64  \n",
      " 4   Partner           4507 non-null   object \n",
      " 5   Dependents        4507 non-null   object \n",
      " 6   tenure            4507 non-null   int64  \n",
      " 7   PhoneService      4507 non-null   object \n",
      " 8   MultipleLines     4507 non-null   object \n",
      " 9   InternetService   4507 non-null   object \n",
      " 10  OnlineSecurity    4507 non-null   object \n",
      " 11  OnlineBackup      4507 non-null   object \n",
      " 12  DeviceProtection  4507 non-null   object \n",
      " 13  TechSupport       4507 non-null   object \n",
      " 14  StreamingTV       4507 non-null   object \n",
      " 15  StreamingMovies   4507 non-null   object \n",
      " 16  Contract          4507 non-null   object \n",
      " 17  PaperlessBilling  4507 non-null   object \n",
      " 18  PaymentMethod     4507 non-null   object \n",
      " 19  MonthlyCharges    4507 non-null   float64\n",
      " 20  TotalCharges      4507 non-null   object \n",
      "dtypes: float64(1), int64(2), object(18)\n",
      "memory usage: 739.6+ KB\n"
     ]
    }
   ],
   "source": [
    "train.info()"
   ]
  },
  {
   "cell_type": "markdown",
   "metadata": {},
   "source": [
    "# Mi stampo il dataset per quanto riguarda solo i record che presentano i valori nulli "
   ]
  },
  {
   "cell_type": "code",
   "execution_count": 15,
   "metadata": {},
   "outputs": [
    {
     "data": {
      "text/html": [
       "<div>\n",
       "<style scoped>\n",
       "    .dataframe tbody tr th:only-of-type {\n",
       "        vertical-align: middle;\n",
       "    }\n",
       "\n",
       "    .dataframe tbody tr th {\n",
       "        vertical-align: top;\n",
       "    }\n",
       "\n",
       "    .dataframe thead th {\n",
       "        text-align: right;\n",
       "    }\n",
       "</style>\n",
       "<table border=\"1\" class=\"dataframe\">\n",
       "  <thead>\n",
       "    <tr style=\"text-align: right;\">\n",
       "      <th></th>\n",
       "      <th>Churn</th>\n",
       "      <th>customerID</th>\n",
       "      <th>gender</th>\n",
       "      <th>SeniorCitizen</th>\n",
       "      <th>Partner</th>\n",
       "      <th>Dependents</th>\n",
       "      <th>tenure</th>\n",
       "      <th>PhoneService</th>\n",
       "      <th>MultipleLines</th>\n",
       "      <th>InternetService</th>\n",
       "      <th>...</th>\n",
       "      <th>OnlineBackup</th>\n",
       "      <th>DeviceProtection</th>\n",
       "      <th>TechSupport</th>\n",
       "      <th>StreamingTV</th>\n",
       "      <th>StreamingMovies</th>\n",
       "      <th>Contract</th>\n",
       "      <th>PaperlessBilling</th>\n",
       "      <th>PaymentMethod</th>\n",
       "      <th>MonthlyCharges</th>\n",
       "      <th>TotalCharges</th>\n",
       "    </tr>\n",
       "  </thead>\n",
       "  <tbody>\n",
       "    <tr>\n",
       "      <th>2</th>\n",
       "      <td>No</td>\n",
       "      <td>4367-NUYAO</td>\n",
       "      <td>Male</td>\n",
       "      <td>0</td>\n",
       "      <td>Yes</td>\n",
       "      <td>Yes</td>\n",
       "      <td>0</td>\n",
       "      <td>Yes</td>\n",
       "      <td>Yes</td>\n",
       "      <td>No</td>\n",
       "      <td>...</td>\n",
       "      <td>No internet service</td>\n",
       "      <td>No internet service</td>\n",
       "      <td>No internet service</td>\n",
       "      <td>No internet service</td>\n",
       "      <td>No internet service</td>\n",
       "      <td>Two year</td>\n",
       "      <td>No</td>\n",
       "      <td>Mailed check</td>\n",
       "      <td>25.75</td>\n",
       "      <td></td>\n",
       "    </tr>\n",
       "    <tr>\n",
       "      <th>989</th>\n",
       "      <td>No</td>\n",
       "      <td>2520-SGTTA</td>\n",
       "      <td>Female</td>\n",
       "      <td>0</td>\n",
       "      <td>Yes</td>\n",
       "      <td>Yes</td>\n",
       "      <td>0</td>\n",
       "      <td>Yes</td>\n",
       "      <td>No</td>\n",
       "      <td>No</td>\n",
       "      <td>...</td>\n",
       "      <td>No internet service</td>\n",
       "      <td>No internet service</td>\n",
       "      <td>No internet service</td>\n",
       "      <td>No internet service</td>\n",
       "      <td>No internet service</td>\n",
       "      <td>Two year</td>\n",
       "      <td>No</td>\n",
       "      <td>Mailed check</td>\n",
       "      <td>20.00</td>\n",
       "      <td></td>\n",
       "    </tr>\n",
       "    <tr>\n",
       "      <th>1402</th>\n",
       "      <td>No</td>\n",
       "      <td>3115-CZMZD</td>\n",
       "      <td>Male</td>\n",
       "      <td>0</td>\n",
       "      <td>No</td>\n",
       "      <td>Yes</td>\n",
       "      <td>0</td>\n",
       "      <td>Yes</td>\n",
       "      <td>No</td>\n",
       "      <td>No</td>\n",
       "      <td>...</td>\n",
       "      <td>No internet service</td>\n",
       "      <td>No internet service</td>\n",
       "      <td>No internet service</td>\n",
       "      <td>No internet service</td>\n",
       "      <td>No internet service</td>\n",
       "      <td>Two year</td>\n",
       "      <td>No</td>\n",
       "      <td>Mailed check</td>\n",
       "      <td>20.25</td>\n",
       "      <td></td>\n",
       "    </tr>\n",
       "    <tr>\n",
       "      <th>1745</th>\n",
       "      <td>No</td>\n",
       "      <td>4472-LVYGI</td>\n",
       "      <td>Female</td>\n",
       "      <td>0</td>\n",
       "      <td>Yes</td>\n",
       "      <td>Yes</td>\n",
       "      <td>0</td>\n",
       "      <td>No</td>\n",
       "      <td>No phone service</td>\n",
       "      <td>DSL</td>\n",
       "      <td>...</td>\n",
       "      <td>No</td>\n",
       "      <td>Yes</td>\n",
       "      <td>Yes</td>\n",
       "      <td>Yes</td>\n",
       "      <td>No</td>\n",
       "      <td>Two year</td>\n",
       "      <td>Yes</td>\n",
       "      <td>Bank transfer (automatic)</td>\n",
       "      <td>52.55</td>\n",
       "      <td></td>\n",
       "    </tr>\n",
       "    <tr>\n",
       "      <th>2210</th>\n",
       "      <td>No</td>\n",
       "      <td>2775-SEFEE</td>\n",
       "      <td>Male</td>\n",
       "      <td>0</td>\n",
       "      <td>No</td>\n",
       "      <td>Yes</td>\n",
       "      <td>0</td>\n",
       "      <td>Yes</td>\n",
       "      <td>Yes</td>\n",
       "      <td>DSL</td>\n",
       "      <td>...</td>\n",
       "      <td>Yes</td>\n",
       "      <td>No</td>\n",
       "      <td>Yes</td>\n",
       "      <td>No</td>\n",
       "      <td>No</td>\n",
       "      <td>Two year</td>\n",
       "      <td>Yes</td>\n",
       "      <td>Bank transfer (automatic)</td>\n",
       "      <td>61.90</td>\n",
       "      <td></td>\n",
       "    </tr>\n",
       "    <tr>\n",
       "      <th>3288</th>\n",
       "      <td>No</td>\n",
       "      <td>5709-LVOEQ</td>\n",
       "      <td>Female</td>\n",
       "      <td>0</td>\n",
       "      <td>Yes</td>\n",
       "      <td>Yes</td>\n",
       "      <td>0</td>\n",
       "      <td>Yes</td>\n",
       "      <td>No</td>\n",
       "      <td>DSL</td>\n",
       "      <td>...</td>\n",
       "      <td>Yes</td>\n",
       "      <td>Yes</td>\n",
       "      <td>No</td>\n",
       "      <td>Yes</td>\n",
       "      <td>Yes</td>\n",
       "      <td>Two year</td>\n",
       "      <td>No</td>\n",
       "      <td>Mailed check</td>\n",
       "      <td>80.85</td>\n",
       "      <td></td>\n",
       "    </tr>\n",
       "    <tr>\n",
       "      <th>4030</th>\n",
       "      <td>No</td>\n",
       "      <td>1371-DWPAZ</td>\n",
       "      <td>Female</td>\n",
       "      <td>0</td>\n",
       "      <td>Yes</td>\n",
       "      <td>Yes</td>\n",
       "      <td>0</td>\n",
       "      <td>No</td>\n",
       "      <td>No phone service</td>\n",
       "      <td>DSL</td>\n",
       "      <td>...</td>\n",
       "      <td>Yes</td>\n",
       "      <td>Yes</td>\n",
       "      <td>Yes</td>\n",
       "      <td>Yes</td>\n",
       "      <td>No</td>\n",
       "      <td>Two year</td>\n",
       "      <td>No</td>\n",
       "      <td>Credit card (automatic)</td>\n",
       "      <td>56.05</td>\n",
       "      <td></td>\n",
       "    </tr>\n",
       "    <tr>\n",
       "      <th>4116</th>\n",
       "      <td>No</td>\n",
       "      <td>3213-VVOLG</td>\n",
       "      <td>Male</td>\n",
       "      <td>0</td>\n",
       "      <td>Yes</td>\n",
       "      <td>Yes</td>\n",
       "      <td>0</td>\n",
       "      <td>Yes</td>\n",
       "      <td>Yes</td>\n",
       "      <td>No</td>\n",
       "      <td>...</td>\n",
       "      <td>No internet service</td>\n",
       "      <td>No internet service</td>\n",
       "      <td>No internet service</td>\n",
       "      <td>No internet service</td>\n",
       "      <td>No internet service</td>\n",
       "      <td>Two year</td>\n",
       "      <td>No</td>\n",
       "      <td>Mailed check</td>\n",
       "      <td>25.35</td>\n",
       "      <td></td>\n",
       "    </tr>\n",
       "  </tbody>\n",
       "</table>\n",
       "<p>8 rows × 21 columns</p>\n",
       "</div>"
      ],
      "text/plain": [
       "     Churn  customerID  gender  SeniorCitizen Partner Dependents  tenure  \\\n",
       "2       No  4367-NUYAO    Male              0     Yes        Yes       0   \n",
       "989     No  2520-SGTTA  Female              0     Yes        Yes       0   \n",
       "1402    No  3115-CZMZD    Male              0      No        Yes       0   \n",
       "1745    No  4472-LVYGI  Female              0     Yes        Yes       0   \n",
       "2210    No  2775-SEFEE    Male              0      No        Yes       0   \n",
       "3288    No  5709-LVOEQ  Female              0     Yes        Yes       0   \n",
       "4030    No  1371-DWPAZ  Female              0     Yes        Yes       0   \n",
       "4116    No  3213-VVOLG    Male              0     Yes        Yes       0   \n",
       "\n",
       "     PhoneService     MultipleLines InternetService  ...         OnlineBackup  \\\n",
       "2             Yes               Yes              No  ...  No internet service   \n",
       "989           Yes                No              No  ...  No internet service   \n",
       "1402          Yes                No              No  ...  No internet service   \n",
       "1745           No  No phone service             DSL  ...                   No   \n",
       "2210          Yes               Yes             DSL  ...                  Yes   \n",
       "3288          Yes                No             DSL  ...                  Yes   \n",
       "4030           No  No phone service             DSL  ...                  Yes   \n",
       "4116          Yes               Yes              No  ...  No internet service   \n",
       "\n",
       "         DeviceProtection          TechSupport          StreamingTV  \\\n",
       "2     No internet service  No internet service  No internet service   \n",
       "989   No internet service  No internet service  No internet service   \n",
       "1402  No internet service  No internet service  No internet service   \n",
       "1745                  Yes                  Yes                  Yes   \n",
       "2210                   No                  Yes                   No   \n",
       "3288                  Yes                   No                  Yes   \n",
       "4030                  Yes                  Yes                  Yes   \n",
       "4116  No internet service  No internet service  No internet service   \n",
       "\n",
       "          StreamingMovies  Contract PaperlessBilling  \\\n",
       "2     No internet service  Two year               No   \n",
       "989   No internet service  Two year               No   \n",
       "1402  No internet service  Two year               No   \n",
       "1745                   No  Two year              Yes   \n",
       "2210                   No  Two year              Yes   \n",
       "3288                  Yes  Two year               No   \n",
       "4030                   No  Two year               No   \n",
       "4116  No internet service  Two year               No   \n",
       "\n",
       "                  PaymentMethod MonthlyCharges  TotalCharges  \n",
       "2                  Mailed check          25.75                \n",
       "989                Mailed check          20.00                \n",
       "1402               Mailed check          20.25                \n",
       "1745  Bank transfer (automatic)          52.55                \n",
       "2210  Bank transfer (automatic)          61.90                \n",
       "3288               Mailed check          80.85                \n",
       "4030    Credit card (automatic)          56.05                \n",
       "4116               Mailed check          25.35                \n",
       "\n",
       "[8 rows x 21 columns]"
      ]
     },
     "execution_count": 15,
     "metadata": {},
     "output_type": "execute_result"
    }
   ],
   "source": [
    "train.loc[train['TotalCharges'] == ' ']"
   ]
  },
  {
   "cell_type": "markdown",
   "metadata": {},
   "source": [
    "# Sostituisco i valori nulli con NaN sia nel train sia nel test"
   ]
  },
  {
   "cell_type": "code",
   "execution_count": 16,
   "metadata": {},
   "outputs": [],
   "source": [
    "train.TotalCharges= train[\"TotalCharges\"].replace(' ',np.NaN)"
   ]
  },
  {
   "cell_type": "code",
   "execution_count": 17,
   "metadata": {},
   "outputs": [],
   "source": [
    "test.TotalCharges= test[\"TotalCharges\"].replace(' ',np.NaN)"
   ]
  },
  {
   "cell_type": "markdown",
   "metadata": {},
   "source": [
    "# verifico che non ci siano più valori rappresentati dallo spazio"
   ]
  },
  {
   "cell_type": "code",
   "execution_count": 18,
   "metadata": {},
   "outputs": [
    {
     "data": {
      "text/html": [
       "<div>\n",
       "<style scoped>\n",
       "    .dataframe tbody tr th:only-of-type {\n",
       "        vertical-align: middle;\n",
       "    }\n",
       "\n",
       "    .dataframe tbody tr th {\n",
       "        vertical-align: top;\n",
       "    }\n",
       "\n",
       "    .dataframe thead th {\n",
       "        text-align: right;\n",
       "    }\n",
       "</style>\n",
       "<table border=\"1\" class=\"dataframe\">\n",
       "  <thead>\n",
       "    <tr style=\"text-align: right;\">\n",
       "      <th></th>\n",
       "      <th>Churn</th>\n",
       "      <th>customerID</th>\n",
       "      <th>gender</th>\n",
       "      <th>SeniorCitizen</th>\n",
       "      <th>Partner</th>\n",
       "      <th>Dependents</th>\n",
       "      <th>tenure</th>\n",
       "      <th>PhoneService</th>\n",
       "      <th>MultipleLines</th>\n",
       "      <th>InternetService</th>\n",
       "      <th>...</th>\n",
       "      <th>OnlineBackup</th>\n",
       "      <th>DeviceProtection</th>\n",
       "      <th>TechSupport</th>\n",
       "      <th>StreamingTV</th>\n",
       "      <th>StreamingMovies</th>\n",
       "      <th>Contract</th>\n",
       "      <th>PaperlessBilling</th>\n",
       "      <th>PaymentMethod</th>\n",
       "      <th>MonthlyCharges</th>\n",
       "      <th>TotalCharges</th>\n",
       "    </tr>\n",
       "  </thead>\n",
       "  <tbody>\n",
       "  </tbody>\n",
       "</table>\n",
       "<p>0 rows × 21 columns</p>\n",
       "</div>"
      ],
      "text/plain": [
       "Empty DataFrame\n",
       "Columns: [Churn, customerID, gender, SeniorCitizen, Partner, Dependents, tenure, PhoneService, MultipleLines, InternetService, OnlineSecurity, OnlineBackup, DeviceProtection, TechSupport, StreamingTV, StreamingMovies, Contract, PaperlessBilling, PaymentMethod, MonthlyCharges, TotalCharges]\n",
       "Index: []\n",
       "\n",
       "[0 rows x 21 columns]"
      ]
     },
     "execution_count": 18,
     "metadata": {},
     "output_type": "execute_result"
    }
   ],
   "source": [
    "train.loc[train['TotalCharges'] == ' ']"
   ]
  },
  {
   "cell_type": "code",
   "execution_count": 19,
   "metadata": {},
   "outputs": [
    {
     "data": {
      "text/html": [
       "<div>\n",
       "<style scoped>\n",
       "    .dataframe tbody tr th:only-of-type {\n",
       "        vertical-align: middle;\n",
       "    }\n",
       "\n",
       "    .dataframe tbody tr th {\n",
       "        vertical-align: top;\n",
       "    }\n",
       "\n",
       "    .dataframe thead th {\n",
       "        text-align: right;\n",
       "    }\n",
       "</style>\n",
       "<table border=\"1\" class=\"dataframe\">\n",
       "  <thead>\n",
       "    <tr style=\"text-align: right;\">\n",
       "      <th></th>\n",
       "      <th>Churn</th>\n",
       "      <th>customerID</th>\n",
       "      <th>gender</th>\n",
       "      <th>SeniorCitizen</th>\n",
       "      <th>Partner</th>\n",
       "      <th>Dependents</th>\n",
       "      <th>tenure</th>\n",
       "      <th>PhoneService</th>\n",
       "      <th>MultipleLines</th>\n",
       "      <th>InternetService</th>\n",
       "      <th>...</th>\n",
       "      <th>OnlineBackup</th>\n",
       "      <th>DeviceProtection</th>\n",
       "      <th>TechSupport</th>\n",
       "      <th>StreamingTV</th>\n",
       "      <th>StreamingMovies</th>\n",
       "      <th>Contract</th>\n",
       "      <th>PaperlessBilling</th>\n",
       "      <th>PaymentMethod</th>\n",
       "      <th>MonthlyCharges</th>\n",
       "      <th>TotalCharges</th>\n",
       "    </tr>\n",
       "  </thead>\n",
       "  <tbody>\n",
       "  </tbody>\n",
       "</table>\n",
       "<p>0 rows × 21 columns</p>\n",
       "</div>"
      ],
      "text/plain": [
       "Empty DataFrame\n",
       "Columns: [Churn, customerID, gender, SeniorCitizen, Partner, Dependents, tenure, PhoneService, MultipleLines, InternetService, OnlineSecurity, OnlineBackup, DeviceProtection, TechSupport, StreamingTV, StreamingMovies, Contract, PaperlessBilling, PaymentMethod, MonthlyCharges, TotalCharges]\n",
       "Index: []\n",
       "\n",
       "[0 rows x 21 columns]"
      ]
     },
     "execution_count": 19,
     "metadata": {},
     "output_type": "execute_result"
    }
   ],
   "source": [
    "test.loc[test['TotalCharges'] == ' ']"
   ]
  },
  {
   "cell_type": "code",
   "execution_count": 20,
   "metadata": {},
   "outputs": [
    {
     "data": {
      "text/html": [
       "<div>\n",
       "<style scoped>\n",
       "    .dataframe tbody tr th:only-of-type {\n",
       "        vertical-align: middle;\n",
       "    }\n",
       "\n",
       "    .dataframe tbody tr th {\n",
       "        vertical-align: top;\n",
       "    }\n",
       "\n",
       "    .dataframe thead th {\n",
       "        text-align: right;\n",
       "    }\n",
       "</style>\n",
       "<table border=\"1\" class=\"dataframe\">\n",
       "  <thead>\n",
       "    <tr style=\"text-align: right;\">\n",
       "      <th></th>\n",
       "      <th>Churn</th>\n",
       "      <th>customerID</th>\n",
       "      <th>gender</th>\n",
       "      <th>SeniorCitizen</th>\n",
       "      <th>Partner</th>\n",
       "      <th>Dependents</th>\n",
       "      <th>tenure</th>\n",
       "      <th>PhoneService</th>\n",
       "      <th>MultipleLines</th>\n",
       "      <th>InternetService</th>\n",
       "      <th>...</th>\n",
       "      <th>OnlineBackup</th>\n",
       "      <th>DeviceProtection</th>\n",
       "      <th>TechSupport</th>\n",
       "      <th>StreamingTV</th>\n",
       "      <th>StreamingMovies</th>\n",
       "      <th>Contract</th>\n",
       "      <th>PaperlessBilling</th>\n",
       "      <th>PaymentMethod</th>\n",
       "      <th>MonthlyCharges</th>\n",
       "      <th>TotalCharges</th>\n",
       "    </tr>\n",
       "  </thead>\n",
       "  <tbody>\n",
       "    <tr>\n",
       "      <th>1745</th>\n",
       "      <td>No</td>\n",
       "      <td>4472-LVYGI</td>\n",
       "      <td>Female</td>\n",
       "      <td>0</td>\n",
       "      <td>Yes</td>\n",
       "      <td>Yes</td>\n",
       "      <td>0</td>\n",
       "      <td>No</td>\n",
       "      <td>No phone service</td>\n",
       "      <td>DSL</td>\n",
       "      <td>...</td>\n",
       "      <td>No</td>\n",
       "      <td>Yes</td>\n",
       "      <td>Yes</td>\n",
       "      <td>Yes</td>\n",
       "      <td>No</td>\n",
       "      <td>Two year</td>\n",
       "      <td>Yes</td>\n",
       "      <td>Bank transfer (automatic)</td>\n",
       "      <td>52.55</td>\n",
       "      <td>NaN</td>\n",
       "    </tr>\n",
       "  </tbody>\n",
       "</table>\n",
       "<p>1 rows × 21 columns</p>\n",
       "</div>"
      ],
      "text/plain": [
       "     Churn  customerID  gender  SeniorCitizen Partner Dependents  tenure  \\\n",
       "1745    No  4472-LVYGI  Female              0     Yes        Yes       0   \n",
       "\n",
       "     PhoneService     MultipleLines InternetService  ... OnlineBackup  \\\n",
       "1745           No  No phone service             DSL  ...           No   \n",
       "\n",
       "     DeviceProtection TechSupport StreamingTV StreamingMovies  Contract  \\\n",
       "1745              Yes         Yes         Yes              No  Two year   \n",
       "\n",
       "     PaperlessBilling              PaymentMethod MonthlyCharges  TotalCharges  \n",
       "1745              Yes  Bank transfer (automatic)          52.55           NaN  \n",
       "\n",
       "[1 rows x 21 columns]"
      ]
     },
     "execution_count": 20,
     "metadata": {},
     "output_type": "execute_result"
    }
   ],
   "source": [
    "train.loc[train['customerID'] == '4472-LVYGI']"
   ]
  },
  {
   "cell_type": "markdown",
   "metadata": {},
   "source": [
    "# applico una conversione alla feature TotalCharges"
   ]
  },
  {
   "cell_type": "code",
   "execution_count": 21,
   "metadata": {},
   "outputs": [],
   "source": [
    "\n",
    "train[\"TotalCharges\"] = pd.to_numeric(train[\"TotalCharges\"])"
   ]
  },
  {
   "cell_type": "code",
   "execution_count": 22,
   "metadata": {},
   "outputs": [],
   "source": [
    "test[\"TotalCharges\"] = pd.to_numeric(test[\"TotalCharges\"])"
   ]
  },
  {
   "cell_type": "markdown",
   "metadata": {},
   "source": [
    "# verifico che non si siano persi valori nulli"
   ]
  },
  {
   "cell_type": "code",
   "execution_count": 23,
   "metadata": {},
   "outputs": [
    {
     "name": "stdout",
     "output_type": "stream",
     "text": [
      "Churn               0\n",
      "customerID          0\n",
      "gender              0\n",
      "SeniorCitizen       0\n",
      "Partner             0\n",
      "Dependents          0\n",
      "tenure              0\n",
      "PhoneService        0\n",
      "MultipleLines       0\n",
      "InternetService     0\n",
      "OnlineSecurity      0\n",
      "OnlineBackup        0\n",
      "DeviceProtection    0\n",
      "TechSupport         0\n",
      "StreamingTV         0\n",
      "StreamingMovies     0\n",
      "Contract            0\n",
      "PaperlessBilling    0\n",
      "PaymentMethod       0\n",
      "MonthlyCharges      0\n",
      "TotalCharges        8\n",
      "dtype: int64\n"
     ]
    }
   ],
   "source": [
    "print(train.isnull().sum())"
   ]
  },
  {
   "cell_type": "code",
   "execution_count": 24,
   "metadata": {},
   "outputs": [
    {
     "name": "stdout",
     "output_type": "stream",
     "text": [
      "Churn               0\n",
      "customerID          0\n",
      "gender              0\n",
      "SeniorCitizen       0\n",
      "Partner             0\n",
      "Dependents          0\n",
      "tenure              0\n",
      "PhoneService        0\n",
      "MultipleLines       0\n",
      "InternetService     0\n",
      "OnlineSecurity      0\n",
      "OnlineBackup        0\n",
      "DeviceProtection    0\n",
      "TechSupport         0\n",
      "StreamingTV         0\n",
      "StreamingMovies     0\n",
      "Contract            0\n",
      "PaperlessBilling    0\n",
      "PaymentMethod       0\n",
      "MonthlyCharges      0\n",
      "TotalCharges        2\n",
      "dtype: int64\n"
     ]
    }
   ],
   "source": [
    "print(test.isnull().sum())"
   ]
  },
  {
   "cell_type": "markdown",
   "metadata": {},
   "source": [
    "# Dato che i valori nulli sono molto pochi li posso rimpiazzare con la media totale dei valori presenti nella colonna 'TotalCharges'"
   ]
  },
  {
   "cell_type": "code",
   "execution_count": 25,
   "metadata": {},
   "outputs": [],
   "source": [
    "train['TotalCharges'].fillna(train['TotalCharges'].mean(), inplace=True)"
   ]
  },
  {
   "cell_type": "code",
   "execution_count": 26,
   "metadata": {},
   "outputs": [],
   "source": [
    "test['TotalCharges'].fillna(test['TotalCharges'].mean(), inplace=True)"
   ]
  },
  {
   "cell_type": "markdown",
   "metadata": {},
   "source": [
    "# verifico che non ci siano più valori nulli"
   ]
  },
  {
   "cell_type": "code",
   "execution_count": 27,
   "metadata": {},
   "outputs": [
    {
     "name": "stdout",
     "output_type": "stream",
     "text": [
      "Churn               0\n",
      "customerID          0\n",
      "gender              0\n",
      "SeniorCitizen       0\n",
      "Partner             0\n",
      "Dependents          0\n",
      "tenure              0\n",
      "PhoneService        0\n",
      "MultipleLines       0\n",
      "InternetService     0\n",
      "OnlineSecurity      0\n",
      "OnlineBackup        0\n",
      "DeviceProtection    0\n",
      "TechSupport         0\n",
      "StreamingTV         0\n",
      "StreamingMovies     0\n",
      "Contract            0\n",
      "PaperlessBilling    0\n",
      "PaymentMethod       0\n",
      "MonthlyCharges      0\n",
      "TotalCharges        0\n",
      "dtype: int64\n"
     ]
    }
   ],
   "source": [
    "print(train.isnull().sum())"
   ]
  },
  {
   "cell_type": "code",
   "execution_count": 28,
   "metadata": {},
   "outputs": [
    {
     "name": "stdout",
     "output_type": "stream",
     "text": [
      "Churn               0\n",
      "customerID          0\n",
      "gender              0\n",
      "SeniorCitizen       0\n",
      "Partner             0\n",
      "Dependents          0\n",
      "tenure              0\n",
      "PhoneService        0\n",
      "MultipleLines       0\n",
      "InternetService     0\n",
      "OnlineSecurity      0\n",
      "OnlineBackup        0\n",
      "DeviceProtection    0\n",
      "TechSupport         0\n",
      "StreamingTV         0\n",
      "StreamingMovies     0\n",
      "Contract            0\n",
      "PaperlessBilling    0\n",
      "PaymentMethod       0\n",
      "MonthlyCharges      0\n",
      "TotalCharges        0\n",
      "dtype: int64\n"
     ]
    }
   ],
   "source": [
    "print(test.isnull().sum())"
   ]
  },
  {
   "cell_type": "markdown",
   "metadata": {},
   "source": [
    "# Rapida verifica per vedere che effettivamente per un costumerID che presentava valore nullo ora c'è la media"
   ]
  },
  {
   "cell_type": "code",
   "execution_count": 29,
   "metadata": {},
   "outputs": [
    {
     "data": {
      "text/html": [
       "<div>\n",
       "<style scoped>\n",
       "    .dataframe tbody tr th:only-of-type {\n",
       "        vertical-align: middle;\n",
       "    }\n",
       "\n",
       "    .dataframe tbody tr th {\n",
       "        vertical-align: top;\n",
       "    }\n",
       "\n",
       "    .dataframe thead th {\n",
       "        text-align: right;\n",
       "    }\n",
       "</style>\n",
       "<table border=\"1\" class=\"dataframe\">\n",
       "  <thead>\n",
       "    <tr style=\"text-align: right;\">\n",
       "      <th></th>\n",
       "      <th>Churn</th>\n",
       "      <th>customerID</th>\n",
       "      <th>gender</th>\n",
       "      <th>SeniorCitizen</th>\n",
       "      <th>Partner</th>\n",
       "      <th>Dependents</th>\n",
       "      <th>tenure</th>\n",
       "      <th>PhoneService</th>\n",
       "      <th>MultipleLines</th>\n",
       "      <th>InternetService</th>\n",
       "      <th>...</th>\n",
       "      <th>OnlineBackup</th>\n",
       "      <th>DeviceProtection</th>\n",
       "      <th>TechSupport</th>\n",
       "      <th>StreamingTV</th>\n",
       "      <th>StreamingMovies</th>\n",
       "      <th>Contract</th>\n",
       "      <th>PaperlessBilling</th>\n",
       "      <th>PaymentMethod</th>\n",
       "      <th>MonthlyCharges</th>\n",
       "      <th>TotalCharges</th>\n",
       "    </tr>\n",
       "  </thead>\n",
       "  <tbody>\n",
       "    <tr>\n",
       "      <th>989</th>\n",
       "      <td>No</td>\n",
       "      <td>2520-SGTTA</td>\n",
       "      <td>Female</td>\n",
       "      <td>0</td>\n",
       "      <td>Yes</td>\n",
       "      <td>Yes</td>\n",
       "      <td>0</td>\n",
       "      <td>Yes</td>\n",
       "      <td>No</td>\n",
       "      <td>No</td>\n",
       "      <td>...</td>\n",
       "      <td>No internet service</td>\n",
       "      <td>No internet service</td>\n",
       "      <td>No internet service</td>\n",
       "      <td>No internet service</td>\n",
       "      <td>No internet service</td>\n",
       "      <td>Two year</td>\n",
       "      <td>No</td>\n",
       "      <td>Mailed check</td>\n",
       "      <td>20.0</td>\n",
       "      <td>2292.592209</td>\n",
       "    </tr>\n",
       "  </tbody>\n",
       "</table>\n",
       "<p>1 rows × 21 columns</p>\n",
       "</div>"
      ],
      "text/plain": [
       "    Churn  customerID  gender  SeniorCitizen Partner Dependents  tenure  \\\n",
       "989    No  2520-SGTTA  Female              0     Yes        Yes       0   \n",
       "\n",
       "    PhoneService MultipleLines InternetService  ...         OnlineBackup  \\\n",
       "989          Yes            No              No  ...  No internet service   \n",
       "\n",
       "        DeviceProtection          TechSupport          StreamingTV  \\\n",
       "989  No internet service  No internet service  No internet service   \n",
       "\n",
       "         StreamingMovies  Contract PaperlessBilling PaymentMethod  \\\n",
       "989  No internet service  Two year               No  Mailed check   \n",
       "\n",
       "    MonthlyCharges  TotalCharges  \n",
       "989           20.0   2292.592209  \n",
       "\n",
       "[1 rows x 21 columns]"
      ]
     },
     "execution_count": 29,
     "metadata": {},
     "output_type": "execute_result"
    }
   ],
   "source": [
    "train.loc[train['customerID'] == '2520-SGTTA']"
   ]
  },
  {
   "cell_type": "markdown",
   "metadata": {},
   "source": [
    "##  Encoding: i modelli ragionano in termini di NUMERI e non di stringhe. Per questo motivo, bisogna convertire i campi object in numeri."
   ]
  },
  {
   "cell_type": "code",
   "execution_count": 30,
   "metadata": {},
   "outputs": [
    {
     "name": "stdout",
     "output_type": "stream",
     "text": [
      "<class 'pandas.core.frame.DataFrame'>\n",
      "RangeIndex: 4507 entries, 0 to 4506\n",
      "Data columns (total 21 columns):\n",
      " #   Column            Non-Null Count  Dtype  \n",
      "---  ------            --------------  -----  \n",
      " 0   Churn             4507 non-null   int64  \n",
      " 1   customerID        4507 non-null   int64  \n",
      " 2   gender            4507 non-null   int64  \n",
      " 3   SeniorCitizen     4507 non-null   int64  \n",
      " 4   Partner           4507 non-null   int64  \n",
      " 5   Dependents        4507 non-null   int64  \n",
      " 6   tenure            4507 non-null   int64  \n",
      " 7   PhoneService      4507 non-null   int64  \n",
      " 8   MultipleLines     4507 non-null   int64  \n",
      " 9   InternetService   4507 non-null   int64  \n",
      " 10  OnlineSecurity    4507 non-null   int64  \n",
      " 11  OnlineBackup      4507 non-null   int64  \n",
      " 12  DeviceProtection  4507 non-null   int64  \n",
      " 13  TechSupport       4507 non-null   int64  \n",
      " 14  StreamingTV       4507 non-null   int64  \n",
      " 15  StreamingMovies   4507 non-null   int64  \n",
      " 16  Contract          4507 non-null   int64  \n",
      " 17  PaperlessBilling  4507 non-null   int64  \n",
      " 18  PaymentMethod     4507 non-null   int64  \n",
      " 19  MonthlyCharges    4507 non-null   float64\n",
      " 20  TotalCharges      4507 non-null   float64\n",
      "dtypes: float64(2), int64(19)\n",
      "memory usage: 739.6 KB\n"
     ]
    }
   ],
   "source": [
    "from sklearn.preprocessing import LabelEncoder\n",
    "Feature = [\"Churn\", \"customerID\", \"gender\", \"Partner\",\"Dependents\", \"PhoneService\", \"MultipleLines\", \"InternetService\", \"OnlineSecurity\", \"OnlineBackup\", \"DeviceProtection\", \"TechSupport\", \"StreamingTV\", \"StreamingMovies\", \"Contract\", \"PaperlessBilling\", \"PaymentMethod\"]\n",
    "labelEncoder_X = LabelEncoder()\n",
    "for element in Feature:\n",
    "    train[element] = labelEncoder_X.fit_transform(train[element])\n",
    "    \n",
    "train.info()"
   ]
  },
  {
   "cell_type": "code",
   "execution_count": 31,
   "metadata": {},
   "outputs": [
    {
     "name": "stdout",
     "output_type": "stream",
     "text": [
      "<class 'pandas.core.frame.DataFrame'>\n",
      "RangeIndex: 1127 entries, 0 to 1126\n",
      "Data columns (total 21 columns):\n",
      " #   Column            Non-Null Count  Dtype  \n",
      "---  ------            --------------  -----  \n",
      " 0   Churn             1127 non-null   int64  \n",
      " 1   customerID        1127 non-null   int64  \n",
      " 2   gender            1127 non-null   int64  \n",
      " 3   SeniorCitizen     1127 non-null   int64  \n",
      " 4   Partner           1127 non-null   int64  \n",
      " 5   Dependents        1127 non-null   int64  \n",
      " 6   tenure            1127 non-null   int64  \n",
      " 7   PhoneService      1127 non-null   int64  \n",
      " 8   MultipleLines     1127 non-null   int64  \n",
      " 9   InternetService   1127 non-null   int64  \n",
      " 10  OnlineSecurity    1127 non-null   int64  \n",
      " 11  OnlineBackup      1127 non-null   int64  \n",
      " 12  DeviceProtection  1127 non-null   int64  \n",
      " 13  TechSupport       1127 non-null   int64  \n",
      " 14  StreamingTV       1127 non-null   int64  \n",
      " 15  StreamingMovies   1127 non-null   int64  \n",
      " 16  Contract          1127 non-null   int64  \n",
      " 17  PaperlessBilling  1127 non-null   int64  \n",
      " 18  PaymentMethod     1127 non-null   int64  \n",
      " 19  MonthlyCharges    1127 non-null   float64\n",
      " 20  TotalCharges      1127 non-null   float64\n",
      "dtypes: float64(2), int64(19)\n",
      "memory usage: 185.0 KB\n"
     ]
    }
   ],
   "source": [
    "from sklearn.preprocessing import LabelEncoder\n",
    "Feature = [\"Churn\", \"customerID\", \"gender\", \"Partner\",\"Dependents\", \"PhoneService\", \"MultipleLines\", \"InternetService\", \"OnlineSecurity\", \"OnlineBackup\", \"DeviceProtection\", \"TechSupport\", \"StreamingTV\", \"StreamingMovies\", \"Contract\", \"PaperlessBilling\", \"PaymentMethod\"]\n",
    "labelEncoder_X = LabelEncoder()\n",
    "for element in Feature:\n",
    "    test[element] = labelEncoder_X.fit_transform(test[element])\n",
    "    \n",
    "test.info()"
   ]
  },
  {
   "cell_type": "code",
   "execution_count": 32,
   "metadata": {},
   "outputs": [],
   "source": [
    "#profile=ProfileReport(train)\n",
    "#profile.to_notebook_iframe()"
   ]
  },
  {
   "cell_type": "markdown",
   "metadata": {},
   "source": [
    "## Mi stampo un grafico che mostra quanti come sono distribuiti i valori per Churn nel nostro dataset"
   ]
  },
  {
   "cell_type": "code",
   "execution_count": 33,
   "metadata": {},
   "outputs": [
    {
     "data": {
      "text/plain": [
       "<AxesSubplot:xlabel='Churn', ylabel='count'>"
      ]
     },
     "execution_count": 33,
     "metadata": {},
     "output_type": "execute_result"
    },
    {
     "data": {
      "image/png": "[encoded data removed]",
      "text/plain": [
       "<Figure size 432x288 with 1 Axes>"
      ]
     },
     "metadata": {
      "needs_background": "light"
     },
     "output_type": "display_data"
    }
   ],
   "source": [
    "sns.countplot(x=train['Churn'])"
   ]
  },
  {
   "cell_type": "markdown",
   "metadata": {},
   "source": [
    "nel grafico stampato qui sopra vediamo che nel dataset di train ci sono molti più valori di Churn pari a 0 rispetto a quelli che valgono 1"
   ]
  },
  {
   "cell_type": "code",
   "execution_count": 34,
   "metadata": {},
   "outputs": [
    {
     "data": {
      "text/plain": [
       "<AxesSubplot:xlabel='Churn', ylabel='count'>"
      ]
     },
     "execution_count": 34,
     "metadata": {},
     "output_type": "execute_result"
    },
    {
     "data": {
      "image/png": "[encoded data removed]",
      "text/plain": [
       "<Figure size 432x288 with 1 Axes>"
      ]
     },
     "metadata": {
      "needs_background": "light"
     },
     "output_type": "display_data"
    }
   ],
   "source": [
    "sns.countplot(x=test['Churn'])"
   ]
  },
  {
   "cell_type": "markdown",
   "metadata": {},
   "source": [
    "nel grafico stampato qui sopra vediamo che anche nel dataset di test ci sono molti più valori di Churn pari a 0 rispetto a quelli che valgono 1"
   ]
  },
  {
   "cell_type": "markdown",
   "metadata": {},
   "source": [
    "## Mi stampo dei grafici per capire le dipendenze e gli andamenti delle etichette per quanto riguarda le feature Contract Partner e Churn e fra le feature Tenure Contract e la Label Churn"
   ]
  },
  {
   "cell_type": "code",
   "execution_count": 35,
   "metadata": {},
   "outputs": [
    {
     "data": {
      "text/plain": [
       "<Figure size 1008x432 with 0 Axes>"
      ]
     },
     "metadata": {},
     "output_type": "display_data"
    },
    {
     "data": {
      "image/png": "[encoded data removed]",
      "text/plain": [
       "<Figure size 1490.75x720 with 2 Axes>"
      ]
     },
     "metadata": {
      "needs_background": "light"
     },
     "output_type": "display_data"
    }
   ],
   "source": [
    "plt.figure(figsize=(14,6))\n",
    "g=sns.catplot(x='Partner', hue='Contract', col='Churn', data=train, kind='count', height=10, aspect=1)"
   ]
  },
  {
   "cell_type": "markdown",
   "metadata": {},
   "source": [
    "- quelli che hanno il contratto per 1 anno e sono Partner non rinnovano. \n",
    "- quelli che hanno il contratto per 2 anni e sono Partner non rinnovano. \n",
    "\n"
   ]
  },
  {
   "cell_type": "code",
   "execution_count": 36,
   "metadata": {},
   "outputs": [
    {
     "data": {
      "text/plain": [
       "<Figure size 1440x720 with 0 Axes>"
      ]
     },
     "metadata": {},
     "output_type": "display_data"
    },
    {
     "data": {
      "image/png": "[encoded data removed]",
      "text/plain": [
       "<Figure size 2930.75x1440 with 2 Axes>"
      ]
     },
     "metadata": {
      "needs_background": "light"
     },
     "output_type": "display_data"
    }
   ],
   "source": [
    "plt.figure(figsize=(20,10))\n",
    "g=sns.catplot(x='tenure', hue='Contract', col='Churn', data=train, kind='count', height=20, aspect=1)"
   ]
  },
  {
   "cell_type": "markdown",
   "metadata": {},
   "source": [
    "se un cliente è rimasto per 72 e ha la tipologia di contratto ad 1 anno molto probabilmente non rinnova"
   ]
  },
  {
   "cell_type": "markdown",
   "metadata": {},
   "source": [
    "# Vedo se si può assumere da questi grafici che qualche feature sia superflua"
   ]
  },
  {
   "cell_type": "code",
   "execution_count": 37,
   "metadata": {},
   "outputs": [
    {
     "data": {
      "image/png": "[encoded data removed]",
      "text/plain": [
       "<Figure size 432x288 with 1 Axes>"
      ]
     },
     "metadata": {
      "needs_background": "light"
     },
     "output_type": "display_data"
    }
   ],
   "source": [
    "sns.countplot(x=train[\"gender\"],hue=train[\"Churn\"]);"
   ]
  },
  {
   "cell_type": "markdown",
   "metadata": {},
   "source": [
    "La feature gender sembrerebbe superflua"
   ]
  },
  {
   "cell_type": "code",
   "execution_count": 38,
   "metadata": {},
   "outputs": [
    {
     "data": {
      "image/png": "[encoded data removed]",
      "text/plain": [
       "<Figure size 432x288 with 1 Axes>"
      ]
     },
     "metadata": {
      "needs_background": "light"
     },
     "output_type": "display_data"
    }
   ],
   "source": [
    "sns.countplot(x=train[\"SeniorCitizen\"],hue=train[\"Churn\"]);"
   ]
  },
  {
   "cell_type": "code",
   "execution_count": 39,
   "metadata": {},
   "outputs": [
    {
     "data": {
      "image/png": "[encoded data removed]",
      "text/plain": [
       "<Figure size 432x288 with 1 Axes>"
      ]
     },
     "metadata": {
      "needs_background": "light"
     },
     "output_type": "display_data"
    }
   ],
   "source": [
    "sns.countplot(x=train[\"Partner\"],hue=train[\"Churn\"]);"
   ]
  },
  {
   "cell_type": "code",
   "execution_count": 40,
   "metadata": {},
   "outputs": [
    {
     "data": {
      "image/png": "[encoded data removed]",
      "text/plain": [
       "<Figure size 432x288 with 1 Axes>"
      ]
     },
     "metadata": {
      "needs_background": "light"
     },
     "output_type": "display_data"
    }
   ],
   "source": [
    "sns.countplot(x=train[\"Dependents\"],hue=train[\"Churn\"]);"
   ]
  },
  {
   "cell_type": "code",
   "execution_count": 41,
   "metadata": {},
   "outputs": [
    {
     "data": {
      "image/png": "[encoded data removed]",
      "text/plain": [
       "<Figure size 432x288 with 1 Axes>"
      ]
     },
     "metadata": {
      "needs_background": "light"
     },
     "output_type": "display_data"
    }
   ],
   "source": [
    "sns.countplot(x=train[\"PhoneService\"],hue=train[\"Churn\"]);"
   ]
  },
  {
   "cell_type": "code",
   "execution_count": 42,
   "metadata": {},
   "outputs": [
    {
     "data": {
      "image/png": "[encoded data removed]",
      "text/plain": [
       "<Figure size 432x288 with 1 Axes>"
      ]
     },
     "metadata": {
      "needs_background": "light"
     },
     "output_type": "display_data"
    }
   ],
   "source": [
    "sns.countplot(x=train[\"PaperlessBilling\"],hue=train[\"Churn\"]);"
   ]
  },
  {
   "cell_type": "code",
   "execution_count": 43,
   "metadata": {},
   "outputs": [
    {
     "data": {
      "image/png": "[encoded data removed]",
      "text/plain": [
       "<Figure size 432x288 with 1 Axes>"
      ]
     },
     "metadata": {
      "needs_background": "light"
     },
     "output_type": "display_data"
    }
   ],
   "source": [
    "sns.countplot(x=train[\"MultipleLines\"],hue=train[\"Churn\"]);"
   ]
  },
  {
   "cell_type": "code",
   "execution_count": 44,
   "metadata": {},
   "outputs": [
    {
     "data": {
      "image/png": "[encoded data removed]",
      "text/plain": [
       "<Figure size 432x288 with 1 Axes>"
      ]
     },
     "metadata": {
      "needs_background": "light"
     },
     "output_type": "display_data"
    }
   ],
   "source": [
    "sns.countplot(x=train[\"InternetService\"],hue=train[\"Churn\"]);"
   ]
  },
  {
   "cell_type": "code",
   "execution_count": 45,
   "metadata": {},
   "outputs": [
    {
     "data": {
      "image/png": "[encoded data removed]",
      "text/plain": [
       "<Figure size 432x288 with 1 Axes>"
      ]
     },
     "metadata": {
      "needs_background": "light"
     },
     "output_type": "display_data"
    }
   ],
   "source": [
    "sns.countplot(x=train[\"StreamingTV\"],hue=train[\"Churn\"]);"
   ]
  },
  {
   "cell_type": "code",
   "execution_count": 46,
   "metadata": {},
   "outputs": [
    {
     "data": {
      "image/png": "[encoded data removed]",
      "text/plain": [
       "<Figure size 432x288 with 1 Axes>"
      ]
     },
     "metadata": {
      "needs_background": "light"
     },
     "output_type": "display_data"
    }
   ],
   "source": [
    "sns.countplot(x=train[\"StreamingMovies\"],hue=train[\"Churn\"]);"
   ]
  },
  {
   "cell_type": "markdown",
   "metadata": {},
   "source": [
    "# Mi stampo una heatmap che mi guarda quale sia la correlazione che ho fra le feature:\n",
    "- valore negativo -> relazione di proporzionalità inversa\n",
    "- valore positivo -> relazione di proporzionalità diretta\n",
    "- valore pari a zero-> no correlazione (feature può essere eliminata)"
   ]
  },
  {
   "cell_type": "code",
   "execution_count": 47,
   "metadata": {},
   "outputs": [
    {
     "data": {
      "text/plain": [
       "<AxesSubplot:>"
      ]
     },
     "execution_count": 47,
     "metadata": {},
     "output_type": "execute_result"
    },
    {
     "data": {
      "image/png": "[encoded data removed]",
      "text/plain": [
       "<Figure size 1296x720 with 2 Axes>"
      ]
     },
     "metadata": {
      "needs_background": "light"
     },
     "output_type": "display_data"
    }
   ],
   "source": [
    "plt.figure(figsize=(18,10))\n",
    "correlation = train.corr()\n",
    "sns.heatmap(correlation, annot = True, linewidth = 2)"
   ]
  },
  {
   "cell_type": "markdown",
   "metadata": {},
   "source": [
    "Dalla heatmap vediamo che le seguenti feature non sono utili per il nostro scopo:\n",
    "- customerID\n",
    "- gender \n",
    "- PhoneService \n",
    "- MultipleLines\n",
    "- InternetService\n",
    "- StreamingTv\n",
    "- StreamingMovie \n",
    "\n",
    "\n",
    "Quindi si possono droppare\n"
   ]
  },
  {
   "cell_type": "code",
   "execution_count": 48,
   "metadata": {},
   "outputs": [],
   "source": [
    "toDrop = ['customerID','gender','PhoneService','MultipleLines','InternetService', 'StreamingTV','StreamingMovies']\n",
    "train = train.drop(toDrop, axis=1)"
   ]
  },
  {
   "cell_type": "code",
   "execution_count": 49,
   "metadata": {},
   "outputs": [],
   "source": [
    "\n",
    "toDrop = ['customerID','gender','PhoneService','MultipleLines','InternetService', 'StreamingTV','StreamingMovies']\n",
    "test = test.drop(toDrop, axis=1)"
   ]
  },
  {
   "cell_type": "markdown",
   "metadata": {},
   "source": [
    "Vediamo inoltre nella heatmap che TotalCharges è molto correlato con Tenure in maniera direttamente proporzionale in quanto hanno una correlazione quasi pari a 1. quindi posso eliminare TotalCharges perchè ha una correlazione con Churn inferiore a quella che ha Tenure con Churn"
   ]
  },
  {
   "cell_type": "code",
   "execution_count": 50,
   "metadata": {},
   "outputs": [],
   "source": [
    "toDrop = ['TotalCharges']\n",
    "test = test.drop(toDrop, axis=1)"
   ]
  },
  {
   "cell_type": "code",
   "execution_count": 51,
   "metadata": {},
   "outputs": [],
   "source": [
    "toDrop = ['TotalCharges']\n",
    "train = train.drop(toDrop, axis=1)"
   ]
  },
  {
   "cell_type": "markdown",
   "metadata": {},
   "source": [
    "# separo la label dalle features"
   ]
  },
  {
   "cell_type": "code",
   "execution_count": 52,
   "metadata": {},
   "outputs": [],
   "source": [
    "y_train= train['Churn']\n",
    "X_train=train.drop(['Churn'], axis=1)\n",
    "\n",
    "\n",
    "y_test= test['Churn']\n",
    "X_test=test.drop(['Churn'], axis=1)"
   ]
  },
  {
   "cell_type": "markdown",
   "metadata": {},
   "source": [
    "# Utilizzo random forest\n",
    "L’algoritmo come si può dedurre dal nome, è costituito da un insieme di alberi decisionali.\n",
    "La classificazione delle istanze dei dati si ha muovendosi seguendo gli archi dalla radice (nodo iniziale dell’albero) ad una foglia dell’albero. \n",
    "Quest’ultima rappresenta il risultato predetto a partire dai valori dei vari attributi e quindi la classificazione del dato in input.\n",
    "La caratteristica principale degli alberi decisionali è la loro abilità nello scegliere le features più importanti per poter dividere il set di dati in modo tale che i gruppi risultanti siano più diversi possibili fra di loro e quindi i membri del sottogruppo siano più simili possibili fra loro. \n",
    "Ciascuna regola di predizione è rappresentata dal cammino che va dal nodo radice al nodo foglia.\n",
    "Per quanto riguarda la classificazione ogni singolo albero nella foresta genera una previsione di classe e la classe con maggior numero di voti diventa quindi la previsione del modello. \n",
    "Il vantaggio di avere più alberi decisionali risiede nel fatto che un gran numero di alberi non correlati protegge l’errore effettuato dai singoli alberi, in quanto mentre alcuni alberi potranno avere un output errato molti altri lo avranno corretto, quindi come gruppo gli alberi si muoveranno verso la corretta direzione.\n",
    "In sostanza la maggioranza vince"
   ]
  },
  {
   "cell_type": "code",
   "execution_count": 53,
   "metadata": {},
   "outputs": [],
   "source": [
    "from sklearn.ensemble import RandomForestClassifier\n",
    "\n",
    "from sklearn.metrics import plot_confusion_matrix, classification_report\n",
    "\n",
    "from sklearn.metrics import accuracy_score"
   ]
  },
  {
   "cell_type": "code",
   "execution_count": 54,
   "metadata": {},
   "outputs": [
    {
     "name": "stdout",
     "output_type": "stream",
     "text": [
      "79.06\n"
     ]
    },
    {
     "data": {
      "image/png": "[encoded data removed]",
      "text/plain": [
       "<Figure size 432x288 with 2 Axes>"
      ]
     },
     "metadata": {
      "needs_background": "light"
     },
     "output_type": "display_data"
    },
    {
     "name": "stdout",
     "output_type": "stream",
     "text": [
      "\n",
      "\n"
     ]
    }
   ],
   "source": [
    "randomforest = RandomForestClassifier()\n",
    "randomforest.fit(X_train, y_train)\n",
    "y_pred = randomforest.predict(X_test)\n",
    "acc_randomforest = round(accuracy_score(y_pred, y_test) * 100, 2)\n",
    "print(acc_randomforest)\n",
    "\n",
    "plot_confusion_matrix(randomforest, X_test, y_test, values_format='n', display_labels=['No','Yes']) \n",
    "plt.show() #sx predizioni giuste, dx predizioni sbagliate\n",
    "print(\"\\n\")\n",
    "\n",
    "\n"
   ]
  },
  {
   "cell_type": "code",
   "execution_count": 55,
   "metadata": {},
   "outputs": [
    {
     "data": {
      "text/html": [
       "<div>\n",
       "<style scoped>\n",
       "    .dataframe tbody tr th:only-of-type {\n",
       "        vertical-align: middle;\n",
       "    }\n",
       "\n",
       "    .dataframe tbody tr th {\n",
       "        vertical-align: top;\n",
       "    }\n",
       "\n",
       "    .dataframe thead th {\n",
       "        text-align: right;\n",
       "    }\n",
       "</style>\n",
       "<table border=\"1\" class=\"dataframe\">\n",
       "  <thead>\n",
       "    <tr style=\"text-align: right;\">\n",
       "      <th></th>\n",
       "      <th>Model</th>\n",
       "      <th>Score</th>\n",
       "    </tr>\n",
       "  </thead>\n",
       "  <tbody>\n",
       "    <tr>\n",
       "      <th>0</th>\n",
       "      <td>Random Forest</td>\n",
       "      <td>79.06</td>\n",
       "    </tr>\n",
       "  </tbody>\n",
       "</table>\n",
       "</div>"
      ],
      "text/plain": [
       "           Model  Score\n",
       "0  Random Forest  79.06"
      ]
     },
     "execution_count": 55,
     "metadata": {},
     "output_type": "execute_result"
    }
   ],
   "source": [
    "models = pd.DataFrame({\n",
    "\n",
    "    'Model': [ 'Random Forest'],\n",
    "\n",
    "    'Score': acc_randomforest})\n",
    "    \n",
    "models.sort_values(by='Score', ascending=False)"
   ]
  },
  {
   "cell_type": "code",
   "execution_count": 56,
   "metadata": {},
   "outputs": [
    {
     "name": "stdout",
     "output_type": "stream",
     "text": [
      "              precision    recall  f1-score   support\n",
      "\n",
      "           0       0.83      0.90      0.86       829\n",
      "           1       0.64      0.48      0.55       298\n",
      "\n",
      "    accuracy                           0.79      1127\n",
      "   macro avg       0.73      0.69      0.71      1127\n",
      "weighted avg       0.78      0.79      0.78      1127\n",
      "\n"
     ]
    }
   ],
   "source": [
    "print(classification_report(y_test,y_pred))"
   ]
  },
  {
   "cell_type": "markdown",
   "metadata": {},
   "source": [
    "Da quello che esce qui sopra infatti notiamo che lo 0 lo classifica abbastanza bene. Per quanto riguarda il valore 1 questo non succede in quanto come mostrato sopra lo 0 è molto più presente nel dataset rispetto all'1."
   ]
  },
  {
   "cell_type": "code",
   "execution_count": null,
   "metadata": {},
   "outputs": [],
   "source": []
  }
 ],
 "metadata": {
  "kernelspec": {
   "display_name": "Python 3",
   "language": "python",
   "name": "python3"
  },
  "language_info": {
   "codemirror_mode": {
    "name": "ipython",
    "version": 3
   },
   "file_extension": ".py",
   "mimetype": "text/x-python",
   "name": "python",
   "nbconvert_exporter": "python",
   "pygments_lexer": "ipython3",
   "version": "3.8.5"
  }
 },
 "nbformat": 4,
 "nbformat_minor": 4
}
